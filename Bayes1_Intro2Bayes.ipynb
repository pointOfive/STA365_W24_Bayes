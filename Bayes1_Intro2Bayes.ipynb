{
 "cells": [
  {
   "cell_type": "markdown",
   "id": "ffe0265f",
   "metadata": {
    "slideshow": {
     "slide_type": "slide"
    }
   },
   "source": [
    "# Class Activity [7 minute]:<br>Most Basic Bayesian Interview Question\n",
    "\n",
    "---\n",
    "\n",
    "> What's the chance you have the disease if you tested postive?\n",
    "\n",
    "- What do you need to know to answer this?\n",
    "\n",
    "\n",
    "\\begin{align*}\n",
    "\\color{white}{Pr(D)} &\\color{white}{=}{} \\color{white}{p} &\\color{white}{\\Longrightarrow}{} && \\color{white}{Pr(\\text{not }D)} &\\color{white}{=}{} \\color{white}{1-p}  \\\\\n",
    "\\color{white}{Pr(+|D)} &\\color{white}{=}{} \\color{white}{q} &\\color{white}{\\Longrightarrow}{} && \\color{white}{Pr(-|D)} &\\color{white}{=}{} \\color{white}{1-q}\\\\\n",
    "\\color{white}{Pr(+|\\text{not }D)} &\\color{white}{=}{} \\color{white}{q'} &\\color{white}{\\Longrightarrow}{} && \\color{white}{Pr(-|\\text{not }D)} &\\color{white}{=}{} \\color{white}{1-q'}\\\\\\\\\n",
    "Pr(D|+) &={} ?\\\\\n",
    "\\end{align*}\n"
   ]
  },
  {
   "cell_type": "markdown",
   "id": "826afaf0",
   "metadata": {
    "slideshow": {
     "slide_type": "slide"
    }
   },
   "source": [
    "# Class Activity [10 minutes]:<br>Most Basic Bayesian Interview Question\n",
    "\n",
    "---\n",
    "\n",
    "> What's the chance you have the disease if you tested postive?\n",
    "\n",
    "- What do you need to know to answer this?\n",
    "\n",
    "\n",
    "\\begin{align*}\n",
    "\\color{black}{Pr(D)} &\\color{black}{=}{} \\color{black}{p} &\\color{black}{\\Longrightarrow}{} && \\color{black}{Pr(\\text{not }D)} &\\color{black}{=}{} \\color{black}{1-p}  \\\\\n",
    "\\color{black}{Pr(+|D)} &\\color{black}{=}{} \\color{black}{q} &\\color{black}{\\Longrightarrow}{} && \\color{black}{Pr(-|D)} &\\color{black}{=}{} \\color{black}{1-q}\\\\\n",
    "\\color{black}{Pr(+|\\text{not }D)} &\\color{black}{=}{} \\color{black}{q'} &\\color{black}{\\Longrightarrow}{} && \\color{back}{Pr(-|\\text{not }D)} &\\color{black}{=}{} \\color{black}{1-q'}\\\\\\\\\n",
    "\\color{red}{Pr(D|+)} &\\color{red}{=}{} \\color{red}{?}\\\\\n",
    "\\end{align*}\n"
   ]
  },
  {
   "cell_type": "markdown",
   "id": "25f3de64",
   "metadata": {
    "slideshow": {
     "slide_type": "slide"
    }
   },
   "source": [
    "# Answer Review [4 minutes]<br>Most Basic Bayesian Interview Question\n",
    "\n",
    "---\n",
    "\n",
    "### Law of Total Probability \n",
    "\n",
    "\\begin{align*}\n",
    "\\color{black}{Pr(+)} &\\color{black}{=}{} \\color{black}{\\sum_{\\mathcal{x\\in X}} Pr(+,x) = }\\color{white}{Pr(+,D) + Pr(+,\\text{not }D)}\\\\\n",
    "&\\color{white}{=}{} \\color{white}{Pr(+|D)Pr(D) + Pr(+|\\text{not }D)Pr(\\text{not }D) = qp + q'(1-p)}\n",
    "\\end{align*}\n",
    "\n",
    "<h3 style=\"color:white;\"> Bayes Theorem </h3>\n",
    "\n",
    "\\begin{align*}\n",
    "\\color{white}{Pr(D|+)} &\\color{white}{=}{} \\color{white}{\\frac{Pr(+|D)Pr(D)}{Pr(+)} = \\frac{qp}{qp + q'(1-p)}}\n",
    "\\end{align*}\n"
   ]
  },
  {
   "cell_type": "markdown",
   "id": "722b69fa",
   "metadata": {
    "slideshow": {
     "slide_type": "slide"
    }
   },
   "source": [
    "# Answer Review [4 minutes]<br>Most Basic Bayesian Interview Question\n",
    "\n",
    "---\n",
    "\n",
    "### Law of Total Probability \n",
    "\n",
    "\\begin{align*}\n",
    "\\color{black}{Pr(+)} &\\color{black}{=}{} \\color{black}{\\sum_{\\mathcal{x\\in X}} Pr(+,x) = Pr(+,D) + Pr(+,\\text{not }D)}\\\\\n",
    "&\\color{black}{=}{} \\color{black}{Pr(+|D)Pr(D) + Pr(+|\\text{not }D)Pr(\\text{not }D) = qp + q'(1-p)}\n",
    "\\end{align*}\n",
    "\n",
    "<h3 style=\"color:white;\"> Bayes Theorem </h3>\n",
    "\n",
    "\\begin{align*}\n",
    "\\color{white}{Pr(D|+)} &\\color{white}{=}{} \\color{white}{\\frac{Pr(+|D)Pr(D)}{Pr(+)} = \\frac{qp}{qp + q'(1-p)}}\n",
    "\\end{align*}\n"
   ]
  },
  {
   "cell_type": "markdown",
   "id": "22eae9e0",
   "metadata": {
    "slideshow": {
     "slide_type": "slide"
    }
   },
   "source": [
    "# Answer Review [4 minutes]<br>Most Basic Bayesian Interview Question\n",
    "\n",
    "---\n",
    "\n",
    "### Law of Total Probability \n",
    "\n",
    "\\begin{align*}\n",
    "\\color{black}{Pr(+)} &\\color{black}{=}{} \\color{black}{\\sum_{\\mathcal{x\\in X}} Pr(+,x) = Pr(+,D) + Pr(+,\\text{not }D)}\\\\\n",
    "&\\color{black}{=}{} \\color{black}{Pr(+|D)Pr(D) + Pr(+|\\text{not }D)Pr(\\text{not }D) = qp + q'(1-p)}\n",
    "\\end{align*}\n",
    "\n",
    "### Bayes Theorem \n",
    "\n",
    "\\begin{align*}\n",
    "\\color{black}{Pr(D|+)} &\\color{black}{=}{} \\color{white}{\\frac{\\color{white}{Pr(+|D)Pr(D)}}{Pr(+)} = \\frac{\\color{white}{Pr(+|D)Pr(D)}}{\\color{white}{Pr(+|D)Pr(D)} + Pr(+|\\text{not }D) Pr(\\text{not }D)} = \\frac{qp}{qp + q'(1-p)}}\n",
    "\\end{align*}\n"
   ]
  },
  {
   "cell_type": "markdown",
   "id": "ba8e4e2f",
   "metadata": {
    "slideshow": {
     "slide_type": "slide"
    }
   },
   "source": [
    "# Answer Review [4 minutes]<br>Most Basic Bayesian Interview Question\n",
    "\n",
    "---\n",
    "\n",
    "### Law of Total Probability \n",
    "\n",
    "\\begin{align*}\n",
    "\\color{black}{Pr(+)} &\\color{black}{=}{} \\color{black}{\\sum_{\\mathcal{x\\in X}} Pr(+,x) = Pr(+,D) + Pr(+,\\text{not }D)}\\\\\n",
    "&\\color{black}{=}{} \\color{black}{\\color{blue}{Pr(+|D)Pr(D)} + Pr(+|\\text{not }D)Pr(\\text{not }D) = qp + q'(1-p)}\n",
    "\\end{align*}\n",
    "\n",
    "### Bayes Theorem \n",
    "\n",
    "\\begin{align*}\n",
    "\\color{black}{Pr(D|+)} &\\color{black}{=}{} \\color{black}{\\frac{\\color{blue}{Pr(+|D)Pr(D)}}{Pr(+)} = \\frac{\\color{blue}{Pr(+|D)Pr(D)}}{\\color{blue}{Pr(+|D)Pr(D)} + Pr(+|\\text{not }D) Pr(\\text{not }D)} = \\frac{qp}{qp + q'(1-p)}}\n",
    "\\end{align*}\n"
   ]
  },
  {
   "cell_type": "markdown",
   "id": "5b45113c",
   "metadata": {
    "slideshow": {
     "slide_type": "slide"
    }
   },
   "source": [
    "# Bayesian Versus Frequentist Philosophy<br>[2 minutes]\n",
    "\n",
    "- ***FREQUENTIST***:<font style=\"color:white;\"><br>**Parameter** $\\theta$ in a **likelihood** $f_\\theta(x)$ is a fixed value to be estimated</font>\n",
    "\n",
    "    - <font style=\"color:white;\">No interesting probability statements to be made about **parameters**</font>\n",
    "\n",
    "\n",
    "<br>\n",
    "\n",
    "- ***BAYESIAN***:<font style=\"color:white;\"><br>The **uncertainty** in $\\theta$ can be modeled as (**posterior**) **distribution** $p(\\theta|x)$</font>\n",
    "\n",
    "    - <font style=\"color:white;\">All statements about **parameters** are probability statements</font><br><br>\n",
    "    \n",
    "    - <font style=\"color:white;\">**Bayes theorem** coherently assess **parameter uncertainty** as a **posterior** $p(\\theta|x)$ given **likelihood** $f_\\theta(x) = p(x|\\theta)$ and **prior** $p(\\theta)$</font>"
   ]
  },
  {
   "cell_type": "markdown",
   "id": "79f8164b",
   "metadata": {
    "slideshow": {
     "slide_type": "slide"
    }
   },
   "source": [
    "# Bayesian Versus Frequentist Philosophy<br>[5 minutes]\n",
    "\n",
    "- ***FREQUENTIST***:<br>**Parameter** $\\theta$ in a **likelihood** $f_\\theta(x)$ is a fixed value to be estimated\n",
    "\n",
    "    - No interesting probability statements to be made about **parameters**\n",
    "\n",
    "\n",
    "<br>\n",
    "\n",
    "- ***BAYESIAN***:<br>The **uncertainty** in $\\theta$ can be modeled as (**posterior**) **distribution** $p(\\theta|x)$\n",
    "\n",
    "    - All statements about **parameters** are probability statements<br><br>\n",
    "    \n",
    "    - **Bayes theorem** coherently assess **parameter uncertainty** as a **posterior** $p(\\theta|x)$ given **likelihood** $f_\\theta(x) = p(x|\\theta)$ and **prior** $p(\\theta)$"
   ]
  },
  {
   "cell_type": "markdown",
   "id": "abd97725",
   "metadata": {
    "slideshow": {
     "slide_type": "slide"
    }
   },
   "source": [
    "# Bayesian Terminology [10 minutes]\n",
    "---\n",
    "\\begin{align*}\n",
    "\\text{Likelihood} && p(x|\\theta) & \\quad \\text{ often written as }f_\\theta(x)\\\\\n",
    "\\text{Prior} && p(\\theta)\\\\\n",
    "\\text{Posterior} && p(\\theta|x) &={} \\overset{\\text{Bayes Theorem}}{\\frac{p(x|\\theta)p(\\theta)}{p(x)}} = \\frac{p(x, \\theta)}{p(x)} \\\\\\\\\n",
    "\\text{Marginal Likelihood} && p(x) &={} \\underset{\\text{Law of Total Probability}}{\\int p(x|\\theta)p(\\theta) d\\theta} \\\\\n",
    "\\text{Join Distribution} && p(\\theta,x) \\\\\n",
    "\\text{The Posterial is always} && p(\\theta|x) &\\propto{} p(\\theta,x)\\\\\n",
    "&&& \\text{proportional to the joint}\n",
    "\\end{align*}\n"
   ]
  },
  {
   "cell_type": "markdown",
   "id": "4666d9dd",
   "metadata": {
    "slideshow": {
     "slide_type": "slide"
    }
   },
   "source": [
    "# Bayesian/Sequential Learning [9 minutes]\n",
    "\n",
    "\\begin{align*}\n",
    "\\text{Conditional Independence} && p(x_2|\\theta) &={} p(x_2|x_1,\\theta) \\; \\text{ or } \\; (x_2 \\perp\\!\\!\\!\\perp x_1 | \\theta)\n",
    "\\end{align*}\n",
    "\n",
    "\\begin{align*}\n",
    "p(\\theta|x_2,x_1) &\\propto{} p(x_2, x_1, \\theta)\\\\\n",
    "& = {} \\underbrace{p(x_2| \\theta, x_1)} p(x_1 | \\theta) p(\\theta)\n",
    "\\color{gray}{\\longleftarrow \\text{chain rule}}\\\\\n",
    "& \\quad (x_2 \\perp\\!\\!\\!\\perp x_1 | \\theta)\\\\\n",
    "& = {} \\overbrace{\\;\\;p(x_2| \\theta)\\;\\;} \\underbrace{p(x_1 | \\theta) p(\\theta)}_{\\propto \\; p(\\theta|x_1)}\\\\\n",
    "&\\propto{}  p(x_2| \\theta) \\underbrace{p(\\theta | x_1)}_{\\text{new prior}} \\longleftarrow \\text{previous posterior}\n",
    "\\end{align*}\n",
    "\n",
    "A prior is updated to a posterior which becomes the new prior for the next data"
   ]
  },
  {
   "cell_type": "markdown",
   "id": "d82fa75d",
   "metadata": {
    "slideshow": {
     "slide_type": "slide"
    }
   },
   "source": [
    "# Bayesian/Sequential Learning [2 minutes]\n",
    "\n",
    "A prior is updated to a posterior which becomes the new prior for the next data\n",
    "\n",
    "\\begin{array}{llll}\n",
    "1.&&\\!\\!\\!\\!\\!\\!&\\!\\!\\!\\!\\!\\!p(\\theta | x_1) \\propto {} f(x_1|\\theta)p(\\theta) \\\\\n",
    "2.&&\\!\\!\\!\\!\\!\\! p(\\theta | x_1, x_2) \\propto f(x_2|\\theta)&\\!\\!\\!\\!\\!\\!p(\\theta | x_1) \\\\\n",
    "3.&p(\\theta | x_1, x_2, x_3) \\propto{} f(x_3|\\theta) & \\!\\!\\!\\!\\!\\! p(\\theta | x_1, x_2)  \\\\\n",
    "\\vdots\\\\\n",
    "\\end{array}\n",
    "\n",
    "<p style=\"color:white;\">\n",
    "### Is this different from Batch Updates? [5 minutes]\n",
    "\n",
    "$$\\color{white}{p(\\theta | x_1, x_2, x_3) \\propto \\underbrace{f(x_1|\\theta)f(x_2|\\theta)f(x_3|\\theta)p(\\theta)}_{\\left[ \\prod_{i=1}^{3}f(x_i|\\theta)\\right]p(\\theta)}\n",
    "\\overset{(x_i \\perp\\!\\!\\perp x_j | \\theta)}{=} f(x_1,x_2,x_3|\\theta)p(\\theta)}$$\n",
    "</p>"
   ]
  },
  {
   "cell_type": "markdown",
   "id": "fe418f76",
   "metadata": {
    "slideshow": {
     "slide_type": "slide"
    }
   },
   "source": [
    "# Bayesian/Sequential Learning\n",
    "\n",
    "A prior is updated to a posterior which becomes the new prior for the next data\n",
    "\n",
    "\\begin{array}{llll}\n",
    "1.&&\\!\\!\\!\\!\\!\\!&\\!\\!\\!\\!\\!\\!p(\\theta | x_1) \\propto {} f(x_1|\\theta)p(\\theta) \\\\\n",
    "2.&&\\!\\!\\!\\!\\!\\! p(\\theta | x_1, x_2) \\propto f(x_2|\\theta)&\\!\\!\\!\\!\\!\\!p(\\theta | x_1) \\\\\n",
    "3.&p(\\theta | x_1, x_2, x_3) \\propto{} f(x_3|\\theta) & \\!\\!\\!\\!\\!\\! p(\\theta | x_1, x_2)  \\\\\n",
    "\\vdots\\\\\n",
    "\\end{array}\n",
    "\n",
    "### Is this different from Batch Updates? [5 minutes]\n",
    "\n",
    "$$p(\\theta | x_1, x_2, x_3) \\propto f(x_1,x_2,x_3|\\theta)p(\\theta)\n",
    "\\overset{(x_i \\perp\\!\\!\\perp x_j | \\theta)}{=} \\underbrace{f(x_1|\\theta)f(x_2|\\theta)f(x_3|\\theta)p(\\theta)}_{\\left[ \\prod_{i=1}^{3}f(x_i|\\theta)\\right]p(\\theta)} $$"
   ]
  },
  {
   "cell_type": "markdown",
   "id": "30514bc9",
   "metadata": {
    "slideshow": {
     "slide_type": "slide"
    }
   },
   "source": [
    "# Criticisms of Bayesian Analysis [3 minutes]\n",
    "\n",
    "- <font style=\"color:white;\">\"Your prior is subjective\"</font>\n",
    "\n",
    "    - <font style=\"color:white;\">Response: \"Your likelihood is subjective\",<br>\"Your model selection is subjective\", etc. Where does this stop...?</font>\n",
    "    \n",
    "        - <font style=\"color:white;\">Affects **Frequentists** as well...<br>\"All models are wrong, some are useful.\"</font>\n",
    "        \n",
    "        \n",
    "- <font style=\"color:white;\">\"Bayesian analysis is computationally expensive\"</font>\n",
    "\n",
    "    - <font style=\"color:white;\">Response: In the end, a method is or is not computationally tractiable. Faster methods may always be preferred...</font>\n",
    "    \n",
    "        - <font style=\"color:white;\">There will be things you **can't** do unless you're ***Bayesian***</font>\n",
    "  "
   ]
  },
  {
   "cell_type": "markdown",
   "id": "15d7b2d8",
   "metadata": {
    "slideshow": {
     "slide_type": "slide"
    }
   },
   "source": [
    "# Criticisms of Bayesian Analysis [6 minutes]\n",
    "\n",
    "- \"Your prior is subjective\"\n",
    "\n",
    "    - Response: \"Your likelihood is subjective\",<br>\"Your model selection is subjective\", etc. Where does this stop...?\n",
    "    \n",
    "        - Affects **Frequentists** as well...<br>\"All models are wrong, some are useful.\"\n",
    "        \n",
    "        \n",
    "- \"Bayesian analysis is computationally expensive\"\n",
    "\n",
    "    - Response: In the end, a method is or is not computationally tractiable. Faster methods may always be preferred...\n",
    "    \n",
    "        - There will be things you **can't** do unless you're ***Bayesian***</font>\n",
    "  "
   ]
  },
  {
   "cell_type": "markdown",
   "id": "854acef9",
   "metadata": {
    "slideshow": {
     "slide_type": "slide"
    }
   },
   "source": [
    "# A first (toy) model: beta-binomial [15 minutes]\n",
    "\n",
    "\\begin{align*}\n",
    "p(x|\\theta,n) &={} \\left( \\begin{array}{c}n\\\\x\\end{array}\\right) \\theta^{x}(1-\\theta)^{n-x} \\quad\\quad\\;\\;\\; [n \\text{ given}]\\\\\n",
    "p(\\theta|\\alpha,\\beta) &={} \\frac{\\Gamma(\\alpha+\\beta)}{\\Gamma(\\alpha)\\Gamma(\\beta)}\\theta^{\\alpha-1}(1-\\theta)^{\\beta-1} \\quad \\begin{array}{l}\\text{$\\alpha$ and $\\beta$ are called}\\\\ \\textbf{hyperparameters}\\end{array}\\\\\n",
    "p(\\theta|x) &={} ?\\\\\n",
    "\\text{Hint: } p(\\theta|x) &\\propto{} p(\\theta,x)\\\\\n",
    "&={} p(x|\\theta)p(\\theta)\\\\\n",
    "&={} \\left( \\begin{array}{c}n\\\\k\\end{array}\\right) \\theta^{x}(1-\\theta)^{n-x} \\frac{\\Gamma(\\alpha+\\beta)}{\\Gamma(\\alpha)\\Gamma(\\beta)}\\theta^{\\alpha-1}(1-\\theta)^{\\beta-1}\\\\\n",
    "&\\propto{}  \\theta^{x}(1-\\theta)^{n-x} \\theta^{\\alpha-1}(1-\\theta)^{\\beta-1}\\\\\n",
    "&={}  \\theta^{x+\\alpha-1}(1-\\theta)^{n-x+\\beta-1} \\Rightarrow \\; \\text{What distribution?}\n",
    "\\end{align*}"
   ]
  },
  {
   "cell_type": "markdown",
   "id": "c8b84c2c",
   "metadata": {
    "slideshow": {
     "slide_type": "slide"
    }
   },
   "source": [
    "# # The \"Classic Bayes\" Figure [10 minutes]"
   ]
  },
  {
   "cell_type": "code",
   "execution_count": 122,
   "id": "bd186514",
   "metadata": {},
   "outputs": [
    {
     "data": {
      "image/png": "[encoded data removed]",
      "text/plain": [
       "<Figure size 1200x400 with 1 Axes>"
      ]
     },
     "metadata": {},
     "output_type": "display_data"
    }
   ],
   "source": [
    "import numpy as np; from scipy import stats; import matplotlib.pyplot as plt\n",
    "n,x=10,8; alpha,beta=10,11; parameter_domain = np.linspace(0,1,1001)\n",
    "likelihood = stats.binom.pmf(n=n, k=x, p=parameter_domain)\n",
    "prior = stats.beta(a=alpha,b=beta).pdf(parameter_domain)\n",
    "c = 8.75; joint = c*likelihood*prior # elementwise multiplication\n",
    "posterior = stats.beta(a=x+alpha,b=n-x+beta).pdf(parameter_domain)\n",
    "plt.figure(figsize=(12,4)); plt.plot(parameter_domain, likelihood, label=\"likelihood\"); plt.plot(parameter_domain, prior, label=\"prior\"); plt.plot(parameter_domain, posterior, label=\"posterior\"); plt.plot(parameter_domain, joint, linestyle=\"--\", label=\"joint (times scalar \"+str(c)+\")\"); plt.legend(); plt.title(\"Visualize various priors, likelihoods, posteriors... and joint distribution (which is proportional to...)\"); "
   ]
  },
  {
   "cell_type": "markdown",
   "id": "3f81eb51",
   "metadata": {
    "slideshow": {
     "slide_type": "slide"
    }
   },
   "source": [
    "# Homework #1: AB-testing<br>and the Multi-Armed Bayesian Bandit\n",
    "\n",
    "### You have three choices... choose wisely, my friends...\n",
    "\n",
    "\n",
    "|Option|The \"Red\" one|The \"Blue\" one|The \"Other\" one|\n",
    "|-|-|-|-|\n",
    "|Unknown Probability of Success|$\\theta_A$ | $\\theta_B$ | $\\theta_C$ |\n",
    "\n",
    "$$p(\\theta_j|x_j,n_j) \\propto \\theta^{x_j+\\alpha_j-1}(1-\\theta_j)^{n-x+\\beta_j-1}  \\Rightarrow \\; \\text{What distribution?}$$\n",
    "\n",
    "- Try one out, and collect that data update...\n",
    "    - What's the data?\n",
    "    - What's the update for the posterior in question?\n",
    "- Which one of the three choices will you try out? How will you choose? \n",
    "\n",
    "\n",
    "- Hint: You can use *simulation* to find out the *relative belief* (i.e., probability) that one of the choices is the best. Posterior distributions characterize your beliefs about the parameters $\\theta_A, \\theta_B$ and $\\theta_C$. What does repeatedly sampling values from the posterior distribution and comparing each triplet of values as you go tell you?\n",
    "\n"
   ]
  }
 ],
 "metadata": {
  "celltoolbar": "Slideshow",
  "kernelspec": {
   "display_name": "Python 3 (ipykernel)",
   "language": "python",
   "name": "python3"
  },
  "language_info": {
   "codemirror_mode": {
    "name": "ipython",
    "version": 3
   },
   "file_extension": ".py",
   "mimetype": "text/x-python",
   "name": "python",
   "nbconvert_exporter": "python",
   "pygments_lexer": "ipython3",
   "version": "3.11.4"
  }
 },
 "nbformat": 4,
 "nbformat_minor": 5
}
