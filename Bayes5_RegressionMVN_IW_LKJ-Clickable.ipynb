{
 "cells": [
  {
   "cell_type": "markdown",
   "id": "222e602a",
   "metadata": {
    "slideshow": {
     "slide_type": "slide"
    }
   },
   "source": [
    "# Class Activity 5: Quiz [15 minutes]\n",
    "\n",
    "1. List the assumptions implied by the ***linear regression model*** specification\n",
    "\n",
    "   $$y_i \\sim \\mathcal N(\\mathbf{x}_i^\\top \\boldsymbol \\beta,\\sigma^2), i=1,\\cdots,n$$\n",
    "\n",
    "2. Rewrite the above expression as a single sample from a ***multivariate normal distribution*** using the ***multivariate random variable*** $\\mathbf{y}_{n\\times 1}$, ***design matrix*** $X_{n\\times p}$, and ***parameters*** $\\boldsymbol \\beta_{p \\times 1}$ and $\\boldsymbol \\Sigma_{n \\times n} = \\sigma^2 I_{n \\times n}$ (and include all the dimensions in your expression)\n",
    "\n",
    "3. Write down the mathematical expression of the PDF of the above ***linear regression model*** as a ***multivariate normal distribution*** in terms of $\\boldsymbol \\Sigma_{n \\times n}$ (instead of $\\sigma^2 I_{n \\times n}$) (and feel free to look up the expression of the pdf online if needed)\n",
    "\n",
    "4. What family of ***priors*** would be ***conjugate*** for the ***multivariate parameter*** $\\boldsymbol \\beta$ for this ***linear regression model***?\n",
    "\n",
    "5. What mathmematical form would a ***conjugate prior*** for the ***covariance matrix*** $\\boldsymbol \\Sigma$ (as opposed to $\\sigma^2$ as in $\\sigma^2I$) be proporitional to  for this ***linear regression model***? \n",
    "\n",
    "   Hint: \n",
    "\n",
    "   $$(\\mathbf {y} -\\mathbf{X \\boldsymbol \\beta})^\\top{\\boldsymbol {\\Sigma }}^{-1}(\\mathbf {y} - \\mathbf{X\\boldsymbol \\beta}) = \\textrm{tr}\\left((\\mathbf {y} -\\mathbf{X\\boldsymbol \\beta})^\\top{\\boldsymbol {\\Sigma }}^{-1}(\\mathbf {y} - \\mathbf{X\\boldsymbol \\beta}) \\right) = \\textrm{tr}\\left((\\mathbf {y} - \\mathbf{X\\boldsymbol \\beta})(\\mathbf {y} -\\mathbf{X\\boldsymbol \\beta})^\\top{\\boldsymbol {\\Sigma }}^{-1} \\right)$$\n"
   ]
  },
  {
   "cell_type": "markdown",
   "id": "0fd0f3df",
   "metadata": {
    "slideshow": {
     "slide_type": "slide"
    }
   },
   "source": [
    "# Class Activity 5: Solutions [5 minutes]\n",
    "\n",
    "1. Assumptions of ***Linear Regression***\n",
    "   \n",
    "   A. indepedendent error terms $\\quad$ B. normally distributed error terms $\\quad$ C.homoskedastic error terms\n",
    "   \n",
    "   D. linear form and $\\mathbf{x_i}$ having no randomness (measured without error)\n",
    "\n",
    "\n",
    "2. ***Multivariate Normal Distribution*** specification of muliple linear regression\n",
    "\n",
    "   $\\mathbf{y}_{n\\times 1} \\sim \\mathcal{MVN}(\\mathbf{X}_{n\\times p}\\boldsymbol{\\beta}_{p\\times 1},\\boldsymbol \\Sigma_{n\\times n} = \\sigma^2I_{n\\times n})$\n",
    "   \n",
    "\n",
    "3. <font style='color:white'>For ***positive definite*** $\\Sigma$</font>\n",
    "\n",
    "   <span style='color:white'>\n",
    "\n",
    "   $$\\begin{align*}p(\\textbf{y}_{n\\times 1}) =  {}& (2\\pi )^{-n/2}\\det({\\boldsymbol {\\Sigma }})^{-1/2}\\,\\exp \\left(-{\\frac {1}{2}}(\\mathbf {y} -\\mathbf{X\\boldsymbol \\beta})^\\top{\\boldsymbol {\\Sigma }}^{-1}(\\mathbf {y} - \\mathbf{X\\boldsymbol\\beta})\\right) \n",
    "   \\propto \\exp \\left(-{\\frac {1}{2}}( {\\boldsymbol \\beta^\\top}\\mathbf{X^\\top}{\\boldsymbol {\\Sigma }}^{-1} \\mathbf{X\\boldsymbol \\beta} - 2{\\boldsymbol \\beta^\\top}\\mathbf{X^\\top}{\\boldsymbol {\\Sigma }}^{-1} \\mathbf{y} \\right)\\\\ \\propto {}& \n",
    "    \\exp \\left(-{\\frac {1}{2}}\\left( \\boldsymbol \\beta - (\\mathbf{X^\\top X})^{-1}\\mathbf{X^\\top y}\\right)^\\top \\mathbf{X^\\top}{\\boldsymbol {\\Sigma }}^{-1} \\mathbf{X} \\left( \\boldsymbol \\beta - (\\mathbf{X^\\top X})^{-1}\\mathbf{X^\\top y)}\\right) \\right) \\quad \\underbrace{\\mathbf{ y} = \\mathbf{ \\hat y} + \\hat  {\\boldsymbol \\epsilon} \\;\\;\\text{ and }\\;\\;  \\mathbf{X^\\top} \\overbrace{{\\Sigma }^{-1}}^{\\sigma^{-2}I} \\hat {\\boldsymbol \\epsilon} }_{\\mathbf{ \\hat y} \\, =\\, \\mathbf{X}(\\mathbf{X^\\top X})^{-1}\\mathbf{X^\\top y} \\;  \\Longrightarrow \\; \\mathbf{X}^\\top \\mathbf{ \\hat y} \\,=\\, \\mathbf{X}^\\top \\mathbf{y}} = \\mathbf{0}\n",
    "    \\end{align*}$$\n",
    "\n",
    "   </span>\n",
    "    \n",
    "4. <font style='color:white'>The ***conjugate prior*** for $\\boldsymbol \\beta$ would be $\\boldsymbol \\beta \\sim \\mathcal{MVN}(\\boldsymbol \\beta_0, \\boldsymbol\\Sigma_\\beta)$</font>\n",
    "\n"
   ]
  },
  {
   "cell_type": "markdown",
   "id": "d5c63dfd",
   "metadata": {
    "slideshow": {
     "slide_type": "slide"
    }
   },
   "source": [
    "# Class Activity 5: Solutions [5 minutes]\n",
    "\n",
    "1. Assumptions of ***Linear Regression***\n",
    "   \n",
    "   A. indepedendent error terms $\\quad$ B. normally distributed error terms $\\quad$ C.homoskedastic error terms\n",
    "   \n",
    "   D. linear form and $\\mathbf{x_i}$ having no randomness (measured without error)\n",
    "\n",
    "\n",
    "2. ***Multivariate Normal Distribution*** specification of muliple linear regression\n",
    "\n",
    "   $\\mathbf{y}_{n\\times 1} \\sim \\mathcal{MVN}(\\mathbf{X}_{n\\times p}\\boldsymbol{\\beta}_{p\\times 1},\\boldsymbol \\Sigma_{n\\times n} = \\sigma^2I_{n\\times n})$\n",
    "   \n",
    "\n",
    "3. For ***positive definite*** $\\Sigma$\n",
    "\n",
    "   $$\\begin{align*}p(\\textbf{y}_{n\\times 1}) =  {}& (2\\pi )^{-n/2}\\det({\\boldsymbol {\\Sigma }})^{-1/2}\\,\\exp \\left(-{\\frac {1}{2}}(\\mathbf {y} -\\mathbf{X\\boldsymbol \\beta})^\\top{\\boldsymbol {\\Sigma }}^{-1}(\\mathbf {y} - \\mathbf{X\\boldsymbol\\beta})\\right) \n",
    "   \\propto \\exp \\left(-{\\frac {1}{2}}( {\\boldsymbol \\beta^\\top}\\mathbf{X^\\top}{\\boldsymbol {\\Sigma }}^{-1} \\mathbf{X\\boldsymbol \\beta} - 2{\\boldsymbol \\beta^\\top}\\mathbf{X^\\top}{\\boldsymbol {\\Sigma }}^{-1} \\mathbf{y} \\right)\\\\ \\color{white}{\\propto} {}& \n",
    "    \\color{white}{\\exp \\left(-{\\frac {1}{2}}\\left( \\boldsymbol \\beta - (\\mathbf{X^\\top X})^{-1}\\mathbf{X^\\top y}\\right)^\\top \\mathbf{X^\\top}{\\boldsymbol {\\Sigma }}^{-1} \\mathbf{X} \\left( \\boldsymbol \\beta - (\\mathbf{X^\\top X})^{-1}\\mathbf{X^\\top y)}\\right) \\right) \\quad \\underbrace{\\mathbf{ y} = \\mathbf{ \\hat y} + \\hat  {\\boldsymbol \\epsilon} \\;\\;\\text{ and }\\;\\;  \\mathbf{X^\\top} \\overbrace{{\\Sigma }^{-1}}^{\\sigma^{-2}I} \\hat {\\boldsymbol \\epsilon} }_{\\mathbf{ \\hat y} \\, =\\, \\mathbf{X}(\\mathbf{X^\\top X})^{-1}\\mathbf{X^\\top y} \\;  \\Longrightarrow \\; \\mathbf{X}^\\top \\mathbf{ \\hat y} \\,=\\, \\mathbf{X}^\\top \\mathbf{y}} = \\mathbf{0}}\n",
    "    \\end{align*}$$\n",
    "\n",
    "    \n",
    "4. <font style='color:white'>The ***conjugate prior*** for $\\boldsymbol \\beta$ would be $\\boldsymbol \\beta \\sim \\mathcal{MVN}(\\boldsymbol \\beta_0, \\boldsymbol\\Sigma_\\beta)$</font>\n",
    "\n"
   ]
  },
  {
   "cell_type": "markdown",
   "id": "f2a05d9c",
   "metadata": {
    "slideshow": {
     "slide_type": "slide"
    }
   },
   "source": [
    "# Class Activity 5: Solutions [5 minutes]\n",
    "\n",
    "1. Assumptions of ***Linear Regression***\n",
    "   \n",
    "   A. indepedendent error terms $\\quad$ B. normally distributed error terms $\\quad$ C.homoskedastic error terms\n",
    "   \n",
    "   D. linear form and $\\mathbf{x_i}$ having no randomness (measured without error)\n",
    "\n",
    "\n",
    "2. ***Multivariate Normal Distribution*** specification of muliple linear regression\n",
    "\n",
    "   $\\mathbf{y}_{n\\times 1} \\sim \\mathcal{MVN}(\\mathbf{X}_{n\\times p}\\boldsymbol{\\beta}_{p\\times 1},\\boldsymbol \\Sigma_{n\\times n} = \\sigma^2I_{n\\times n})$\n",
    "   \n",
    "\n",
    "3. For ***positive definite*** $\\Sigma$\n",
    "\n",
    "   $$\\begin{align*}p(\\textbf{y}_{n\\times 1}) =  {}& (2\\pi )^{-n/2}\\det({\\boldsymbol {\\Sigma }})^{-1/2}\\,\\exp \\left(-{\\frac {1}{2}}(\\mathbf {y} -\\mathbf{X\\boldsymbol \\beta})^\\top{\\boldsymbol {\\Sigma }}^{-1}(\\mathbf {y} - \\mathbf{X\\boldsymbol\\beta})\\right) \n",
    "   \\propto \\exp \\left(-{\\frac {1}{2}}( {\\boldsymbol \\beta^\\top}\\mathbf{X^\\top}{\\boldsymbol {\\Sigma }}^{-1} \\mathbf{X\\boldsymbol \\beta} - 2{\\boldsymbol \\beta^\\top}\\mathbf{X^\\top}{\\boldsymbol {\\Sigma }}^{-1} \\mathbf{y} \\right)\\\\ \\propto {}& \n",
    "    \\exp \\left(-{\\frac {1}{2}}\\left( \\boldsymbol \\beta - (\\mathbf{X^\\top X})^{-1}\\mathbf{X^\\top y}\\right)^\\top \\mathbf{X^\\top}{\\boldsymbol {\\Sigma }}^{-1} \\mathbf{X} \\left( \\boldsymbol \\beta - (\\mathbf{X^\\top X})^{-1}\\mathbf{X^\\top y)}\\right) \\right) \\quad \\underbrace{\\mathbf{ y} = \\mathbf{ \\hat y} + \\hat  {\\boldsymbol \\epsilon} \\;\\;\\text{ and }\\;\\;  \\mathbf{X^\\top} \\overbrace{{\\Sigma }^{-1}}^{\\sigma^{-2}I} \\hat {\\boldsymbol \\epsilon} }_{\\mathbf{ \\hat y} \\, =\\, \\mathbf{X}(\\mathbf{X^\\top X})^{-1}\\mathbf{X^\\top y} \\;  \\Longrightarrow \\; \\mathbf{X}^\\top \\mathbf{ \\hat y} \\,=\\, \\mathbf{X}^\\top \\mathbf{y}} = \\mathbf{0}\n",
    "    \\end{align*}$$\n",
    "\n",
    "4. The ***conjugate prior*** for $\\boldsymbol \\beta$ would be <font style='color:white'>$\\boldsymbol \\beta \\sim \\mathcal{MVN}(\\boldsymbol \\beta_0, \\boldsymbol\\Sigma_\\beta)$</font>\n",
    "\n"
   ]
  },
  {
   "cell_type": "markdown",
   "id": "f84a4e3c",
   "metadata": {
    "slideshow": {
     "slide_type": "slide"
    }
   },
   "source": [
    "# Class Activity 5: Solutions [0 minutes]\n",
    "\n",
    "1. Assumptions of ***Linear Regression***\n",
    "   \n",
    "   A. indepedendent error terms $\\quad$ B. normally distributed error terms $\\quad$ C.homoskedastic error terms\n",
    "   \n",
    "   D. linear form and $\\mathbf{x_i}$ having no randomness (measured without error)\n",
    "\n",
    "\n",
    "2. ***Multivariate Normal Distribution*** specification of muliple linear regression\n",
    "\n",
    "   $\\mathbf{y}_{n\\times 1} \\sim \\mathcal{MVN}(\\mathbf{X}_{n\\times p}\\boldsymbol{\\beta}_{p\\times 1},\\boldsymbol \\Sigma_{n\\times n} = \\sigma^2I_{n\\times n})$\n",
    "   \n",
    "\n",
    "3. For ***positive definite*** $\\Sigma$\n",
    "\n",
    "   $$\\begin{align*}p(\\textbf{y}_{n\\times 1}) =  {}& (2\\pi )^{-n/2}\\det({\\boldsymbol {\\Sigma }})^{-1/2}\\,\\exp \\left(-{\\frac {1}{2}}(\\mathbf {y} -\\mathbf{X\\boldsymbol \\beta})^\\top{\\boldsymbol {\\Sigma }}^{-1}(\\mathbf {y} - \\mathbf{X\\boldsymbol\\beta})\\right) \n",
    "   \\propto \\exp \\left(-{\\frac {1}{2}}( {\\boldsymbol \\beta^\\top}\\mathbf{X^\\top}{\\boldsymbol {\\Sigma }}^{-1} \\mathbf{X\\boldsymbol \\beta} - 2{\\boldsymbol \\beta^\\top}\\mathbf{X^\\top}{\\boldsymbol {\\Sigma }}^{-1} \\mathbf{y} \\right)\\\\ \\propto {}& \n",
    "    \\exp \\left(-{\\frac {1}{2}}\\left( \\boldsymbol \\beta - (\\mathbf{X^\\top X})^{-1}\\mathbf{X^\\top y}\\right)^\\top \\mathbf{X^\\top}{\\boldsymbol {\\Sigma }}^{-1} \\mathbf{X} \\left( \\boldsymbol \\beta - (\\mathbf{X^\\top X})^{-1}\\mathbf{X^\\top y)}\\right) \\right) \\quad \\underbrace{\\mathbf{ y} = \\mathbf{ \\hat y} + \\hat  {\\boldsymbol \\epsilon} \\;\\;\\text{ and }\\;\\;  \\mathbf{X^\\top} \\overbrace{{\\Sigma }^{-1}}^{\\sigma^{-2}I} \\hat {\\boldsymbol \\epsilon} }_{\\mathbf{ \\hat y} \\, =\\, \\mathbf{X}(\\mathbf{X^\\top X})^{-1}\\mathbf{X^\\top y} \\;  \\Longrightarrow \\; \\mathbf{X}^\\top \\mathbf{ \\hat y} \\,=\\, \\mathbf{X}^\\top \\mathbf{y}} = \\mathbf{0}\n",
    "    \\end{align*}$$\n",
    "\n",
    "4. The ***conjugate prior*** for $\\boldsymbol \\beta$ would be $\\boldsymbol \\beta \\sim \\mathcal{MVN}(\\boldsymbol \\beta_0, \\boldsymbol\\Sigma_\\beta)$ \n",
    "\n"
   ]
  },
  {
   "cell_type": "markdown",
   "id": "48925b7b",
   "metadata": {
    "slideshow": {
     "slide_type": "slide"
    }
   },
   "source": [
    "# Class Activity 5: Solutions [5 minutes]\n",
    "\n",
    "1. Assumptions of ***Linear Regression***\n",
    "   \n",
    "   A. indepedendent error terms $\\quad$ B. normally distributed error terms $\\quad$ C.homoskedastic error terms\n",
    "   \n",
    "   D. linear form and $\\mathbf{x_i}$ having no randomness (measured without error)\n",
    "\n",
    "\n",
    "2. ***Multivariate Normal Distribution*** specification of muliple linear regression\n",
    "\n",
    "   $\\mathbf{y}_{n\\times 1} \\sim \\mathcal{MVN}(\\mathbf{X}_{n\\times p}\\boldsymbol{\\beta}_{p\\times 1},\\boldsymbol \\Sigma_{n\\times n} = \\sigma^2I_{n\\times n})$\n",
    "\n",
    "\n",
    "3. For ***positive definite*** $\\Sigma$\n",
    "\n",
    "   $$\\begin{align*}p(\\textbf{y}_{n\\times 1}) =  {}& (2\\pi )^{-n/2}\\det({\\boldsymbol {\\Sigma }})^{-1/2}\\,\\exp \\left(-{\\frac {1}{2}}\\text{tr}\\left((\\mathbf {y} -\\mathbf{X\\boldsymbol \\beta})^\\top{\\boldsymbol {\\Sigma }}^{-1}(\\mathbf {y} - \\mathbf{X\\boldsymbol\\beta})\\right)\\right) \\quad\\quad\\quad\\quad\\quad\\quad\\quad\\quad\\quad\\\\ \n",
    "\\propto {}& \n",
    "\\det({\\boldsymbol {\\Sigma }})^{-1/2}\\,\\exp \\left(-{\\frac {1}{2}}\\text{tr}\\left((\\mathbf {y} - \\mathbf{X\\boldsymbol\\beta})(\\mathbf {y} -\\mathbf{X\\boldsymbol \\beta})^\\top{\\boldsymbol {\\Sigma }}^{-1}\\right)\\right)\n",
    "    \\end{align*}$$\n",
    "\n",
    "4.  <font style='color:gray'>The ***conjugate prior*** for $\\boldsymbol \\beta$ would be $\\boldsymbol \\beta \\sim \\mathcal{MVN}(\\boldsymbol \\beta_0, \\boldsymbol\\Sigma_\\beta)$</font>\n",
    "\n",
    "5. The ***conjugate prior*** for $\\boldsymbol \\Sigma$ would be $p(\\boldsymbol \\Sigma) \\propto \\color{white}{\\det({\\boldsymbol {\\Sigma }})^{-v/2} \\exp \\left(-{\\frac {1}{2}}\\textrm{tr}\\left(\\Psi{\\boldsymbol {\\Sigma }}^{-1} \\right)\\right)}$ \n",
    "\n",
    "   <font style='color:white'>an [Inverse-Wishart distribution] and it is ***conjugate*** since [determinants multiply] and [traces add]</font>"
   ]
  },
  {
   "cell_type": "markdown",
   "id": "2a42ef92",
   "metadata": {
    "slideshow": {
     "slide_type": "slide"
    }
   },
   "source": [
    "# Class Activity 5: Solutions [0 minutes]\n",
    "\n",
    "1. Assumptions of ***Linear Regression***\n",
    "   \n",
    "   A. indepedendent error terms $\\quad$ B. normally distributed error terms $\\quad$ C.homoskedastic error terms\n",
    "   \n",
    "   D. linear form and $\\mathbf{x_i}$ having no randomness (measured without error)\n",
    "\n",
    "\n",
    "2. ***Multivariate Normal Distribution*** specification of muliple linear regression\n",
    "\n",
    "   $\\mathbf{y}_{n\\times 1} \\sim \\mathcal{MVN}(\\mathbf{X}_{n\\times p}\\boldsymbol{\\beta}_{p\\times 1},\\boldsymbol \\Sigma_{n\\times n} = \\sigma^2I_{n\\times n})$\n",
    "\n",
    "\n",
    "3. For ***positive definite*** $\\Sigma$\n",
    "\n",
    "   $$\\begin{align*}p(\\textbf{y}_{n\\times 1}) =  {}& (2\\pi )^{-n/2}\\det({\\boldsymbol {\\Sigma }})^{-1/2}\\,\\exp \\left(-{\\frac {1}{2}}\\text{tr}\\left((\\mathbf {y} -\\mathbf{X\\boldsymbol \\beta})^\\top{\\boldsymbol {\\Sigma }}^{-1}(\\mathbf {y} - \\mathbf{X\\boldsymbol\\beta})\\right)\\right) \\quad\\quad\\quad\\quad\\quad\\quad\\quad\\quad\\quad\\\\ \n",
    "\\propto {}& \n",
    "\\det({\\boldsymbol {\\Sigma }})^{-1/2}\\,\\exp \\left(-{\\frac {1}{2}}\\text{tr}\\left((\\mathbf {y} - \\mathbf{X\\boldsymbol\\beta})(\\mathbf {y} -\\mathbf{X\\boldsymbol \\beta})^\\top{\\boldsymbol {\\Sigma }}^{-1}\\right)\\right)\n",
    "    \\end{align*}$$\n",
    "\n",
    "4.  <font style='color:gray'>The ***conjugate prior*** for $\\boldsymbol \\beta$ would be $\\boldsymbol \\beta \\sim \\mathcal{MVN}(\\boldsymbol \\beta_0, \\boldsymbol\\Sigma_\\beta)$</font>\n",
    "\n",
    "5. The ***conjugate prior*** for $\\boldsymbol \\Sigma$ would be $p(\\boldsymbol \\Sigma) \\propto \\det({\\boldsymbol {\\Sigma }})^{-v/2} \\exp \\left(-{\\frac {1}{2}}\\textrm{tr}\\left(\\Psi{\\boldsymbol {\\Sigma }}^{-1} \\right)\\right)$ \n",
    "\n",
    "   an [Inverse-Wishart distribution](https://en.wikipedia.org/wiki/Inverse-Wishart_distribution) and it is ***conjugate*** since [determinants multiply](https://proofwiki.org/wiki/Determinant_of_Matrix_Product) and [traces add](https://proofwiki.org/wiki/Trace_of_Sum_of_Matrices_is_Sum_of_Traces#:~:text=let%20A%2BB%20denote%20the,denotes%20the%20trace%20of%20A.)"
   ]
  },
  {
   "cell_type": "markdown",
   "id": "67f761f4",
   "metadata": {
    "slideshow": {
     "slide_type": "slide"
    }
   },
   "source": [
    "# Bayesian Linear Regression:<br>Multivariate Normal Distributions [10 minutes]\n",
    "\n",
    "\n",
    "\\begin{align*}\\require{cancel}\n",
    "\\mathbf{y}_{n\\times 1} \\sim {} & \\mathcal{MVN}(\\mathbf{X}_{n\\times p}\\boldsymbol{\\beta}_{p\\times 1},\\boldsymbol \\Sigma_{n\\times n} = \\sigma^2I_{n\\times n})\\\\\n",
    "p(\\mathbf{y}|\\boldsymbol \\beta, \\sigma, \\mathbf{X}) = {}& (2\\pi )^{-n/2}\\cancel{\\det({\\boldsymbol {\\Sigma }})^{-1/2}}{\\frac{1}{\\sigma^{\\frac{n}{2}}}}\\exp \\left(-{\\frac {1}{2\\sigma^2}}(\\mathbf {y} -\\mathbf{X\\boldsymbol\\beta})^\\top\\cancel{\\boldsymbol {\\Sigma }^{-1}}(\\mathbf {y} - \\mathbf{X\\boldsymbol\\beta})\\right)\\\\\\\\\n",
    "\\boldsymbol\\beta \\sim {} & \\mathcal{MVN}(\\boldsymbol\\beta_0, \\boldsymbol\\Sigma_\\beta) \\quad or\\;?\\\\\\\\\n",
    "\\sigma \\sim {} & exponential(\\lambda)  \\quad p(\\sigma) =  \\lambda e^{-\\lambda \\sigma}1_{[0,\\infty]}(\\sigma)\\\\\\\\\n",
    "\\end{align*}\n",
    "$$or \\quad \\sigma \\sim \\text{HalfNormal}(\\mu_\\sigma,\\sigma_\\sigma), \\sigma \\sim  \\text{InverseGamma}(\\alpha,\\beta), \\sigma \\sim \\text{TruncatedNormal}(\\mu_\\sigma,\\sigma_\\sigma,a,b) \\quad or \\; ?$$\n"
   ]
  },
  {
   "cell_type": "code",
   "execution_count": 34,
   "id": "c0790533",
   "metadata": {},
   "outputs": [
    {
     "name": "stderr",
     "output_type": "stream",
     "text": [
      "Auto-assigning NUTS sampler...\n",
      "Initializing NUTS using jitter+adapt_diag...\n",
      "Multiprocess sampling (4 chains in 4 jobs)\n",
      "NUTS: [betas, sigma]\n"
     ]
    },
    {
     "data": {
      "text/html": [
       "\n",
       "<style>\n",
       "    /* Turns off some styling */\n",
       "    progress {\n",
       "        /* gets rid of default border in Firefox and Opera. */\n",
       "        border: none;\n",
       "        /* Needs to be in here for Safari polyfill so background images work as expected. */\n",
       "        background-size: auto;\n",
       "    }\n",
       "    progress:not([value]), progress:not([value])::-webkit-progress-bar {\n",
       "        background: repeating-linear-gradient(45deg, #7e7e7e, #7e7e7e 10px, #5c5c5c 10px, #5c5c5c 20px);\n",
       "    }\n",
       "    .progress-bar-interrupted, .progress-bar-interrupted::-webkit-progress-bar {\n",
       "        background: #F44336;\n",
       "    }\n",
       "</style>\n"
      ],
      "text/plain": [
       "<IPython.core.display.HTML object>"
      ]
     },
     "metadata": {},
     "output_type": "display_data"
    },
    {
     "data": {
      "text/html": [
       "\n",
       "    <div>\n",
       "      <progress value='8000' class='' max='8000' style='width:300px; height:20px; vertical-align: middle;'></progress>\n",
       "      100.00% [8000/8000 00:11&lt;00:00 Sampling 4 chains, 0 divergences]\n",
       "    </div>\n",
       "    "
      ],
      "text/plain": [
       "<IPython.core.display.HTML object>"
      ]
     },
     "metadata": {},
     "output_type": "display_data"
    },
    {
     "name": "stderr",
     "output_type": "stream",
     "text": [
      "Sampling 4 chains for 1_000 tune and 1_000 draw iterations (4_000 + 4_000 draws total) took 12 seconds.\n"
     ]
    }
   ],
   "source": [
    "import pymc as pm; import numpy as np; n,p=100,10; X,y=np.zeros((n,p)),np.ones((n,1))\n",
    "with pm.Model() as MLR:\n",
    "    betas = pm.MvNormal('betas', mu=np.zeros((p,1)), cov=np.eye(p), shape=(p,1))\n",
    "    sigma = pm.TruncatedNormal('sigma', mu=1, sigma=1, lower=0) # it's just a half normal, actually\n",
    "    y = pm.Normal('y', mu=pm.math.dot(X, betas), sigma=sigma, observed=y)\n",
    "    # y = pm.MvNormal('y', mu=X@betas, cov=sigma**2*np.eye(n), shape=(n,1), observed=y)\n",
    "    \n",
    "with MLR:\n",
    "    idata = pm.sample()"
   ]
  },
  {
   "cell_type": "markdown",
   "id": "7389faa1",
   "metadata": {
    "slideshow": {
     "slide_type": "slide"
    }
   },
   "source": [
    "# Homework 5: Part I\n",
    "\n",
    "1. Go get data from kaggle.com and do a ***Bayesian Linear Regression*** analysis\n",
    "\n",
    "```python\n",
    "import pymc as pm; import numpy as np\n",
    "n,p=100,10; X,y=np.zeros((n,p)),np.ones((n,1))\n",
    "# Replace this made up data with your data set from kaggle...\n",
    "with pm.Model() as MLR:\n",
    "    betas = pm.MvNormal('betas', mu=np.zeros((p,1)), cov=np.eye(p), shape=(p,1))\n",
    "    sigma = pm.TruncatedNormal('sigma', mu=1, sigma=1, lower=0) # half normal\n",
    "    y = pm.Normal('y', mu=pm.math.dot(X, betas), sigma=sigma, observed=y)\n",
    "\n",
    "with MLR:\n",
    "    idata = pm.sample()\n",
    "```    \n",
    "\n",
    "2. Choose ***prior*** that are sensible: certainly you might change the ***hyperparameters***, and perhaps you can experiment with different distributional families for `sigma`...\n",
    "\n",
    "3. [Optional] Assess the performance of the MCMC and note any issues or warnings\n",
    "\n",
    "    1. Traceplots, inference (credible) intervals, effective sample sizes, energy plots, warnings and other notes... just the usual stuff they do [here](https://www.pymc.io/projects/docs/en/stable/learn/core_notebooks/pymc_overview.html#pymc-overview)\n",
    "\n",
    "4. [Optional] Perform ***Multiple Linear Regression*** diagnostics... residual plots, etc.\n"
   ]
  },
  {
   "cell_type": "markdown",
   "id": "d1c5afef",
   "metadata": {
    "slideshow": {
     "slide_type": "slide"
    }
   },
   "source": [
    "# Bayesian Linear Regression?<br>Geneal $\\boldsymbol \\Sigma$ Instead of $\\sigma^2I$ [10 minutes]\n",
    "\n",
    "\\begin{align*}\\require{cancel}\n",
    "\\mathbf{y}_{n\\times 1} \\sim {} & \\mathcal{MVN}(\\mathbf{X}_{n\\times p}\\boldsymbol{\\beta}_{p\\times 1},\\boldsymbol \\Sigma_{n\\times n} = \\sigma^2I_{n\\times n})\\\\\n",
    "p(\\mathbf{y}|\\boldsymbol \\beta, \\sigma, \\mathbf{X}) = {}& (2\\pi )^{-n/2}\\cancel{\\det({\\boldsymbol {\\Sigma }})^{-1/2}}{\\frac{1}{\\sigma^{\\frac{n}{2}}}}\\exp \\left(-{\\frac {1}{2\\sigma^2}}(\\mathbf {y} -\\mathbf{X\\boldsymbol\\beta})^\\top\\cancel{\\boldsymbol {\\Sigma }^{-1}}(\\mathbf {y} - \\mathbf{X\\boldsymbol\\beta})\\right)\\\\\\hline\\\\\n",
    "\\mathbf{y}_{n\\times 1} \\sim {} & \\mathcal{MVN}(\\mathbf{X}_{n\\times p}\\boldsymbol{\\beta}_{p\\times 1},\\boldsymbol \\Sigma_{n\\times n} \\cancel{= \\sigma^2I_{n\\times n}})\\\\\n",
    "p(\\mathbf{y}|\\boldsymbol \\beta, \\sigma, \\mathbf{X}) = {}& (2\\pi )^{-n/2}{\\det({\\boldsymbol {\\Sigma }})^{-1/2}}\\exp \\left(-{\\frac {1}{2}}(\\mathbf {y} -\\mathbf{X\\boldsymbol\\beta})^\\top{\\boldsymbol {\\Sigma }^{-1}}(\\mathbf {y} - \\mathbf{X\\boldsymbol\\beta})\\right)\\\\\\\\\n",
    "\\boldsymbol\\beta \\sim {} & \\mathcal{MVN}(\\boldsymbol\\beta_0, \\boldsymbol\\Sigma_\\beta) \\quad or\\;?\\\\\\\\\n",
    "p(\\boldsymbol \\Sigma) \\propto {} & \\det({\\boldsymbol {\\Sigma }})^{-v/2} \\exp \\left(-{\\frac {1}{2}}\\textrm{tr}\\left(\\Psi{\\boldsymbol {\\Sigma }}^{-1} \\right)\\right) \\quad or\\;?\n",
    "\\end{align*}\n",
    "\n",
    "## Do we forsee any problems with what we're going to do here?"
   ]
  },
  {
   "cell_type": "markdown",
   "id": "96587f97",
   "metadata": {
    "slideshow": {
     "slide_type": "slide"
    }
   },
   "source": [
    "# Conjugate Multivariate Normal Priors [3 minutes]\n",
    "\n",
    "\\begin{align*}\n",
    "p(\\mathbf{y} | \\boldsymbol \\beta, \\boldsymbol \\Sigma, \\mathbf{X})= {}& (2\\pi )^{-n/2}\\det({\\boldsymbol {\\Sigma }})^{-1/2}\\,\\exp \\left(-{\\frac {1}{2}}(\\mathbf {y} -\\mathbf{X\\beta})^\\top{\\boldsymbol {\\Sigma }}^{-1}(\\mathbf{y} - \\mathbf{X\\beta})\\right)\\\\\n",
    "\\propto{}& \\exp\\left(\\mathbf{\\beta}^\\top\\mathbf{X}^\\top\\boldsymbol\\Sigma^{-1}\\mathbf{y} - \\frac{1}{2}\\mathbf{\\beta}^\\top \\mathbf{X}^\\top \\boldsymbol\\Sigma^{-1} \\mathbf{X\\beta} \\right)\\\\\n",
    "\\color{white}{\\propto{}}& \\color{white}{\\exp\\left( - \\frac{1}{2} \\left((\\mathbf{X}^\\top \\boldsymbol\\Sigma^{-1} \\mathbf{X})^{-1}\\mathbf{X}^\\top \\boldsymbol\\Sigma^{-1}\\mathbf{y} -\\beta\\right)^{\\!\\top} \\left[\\mathbf{X}^{\\top} \\boldsymbol\\Sigma^{-1} \\mathbf{X} \\right]\\left((\\mathbf{X}^\\top \\boldsymbol\\Sigma^{-1} \\mathbf{X})^{-1}\\mathbf{X}^\\top \\boldsymbol\\Sigma^{-1}\\mathbf{y} -\\beta\\right)  \\right)}\\\\\n",
    "\\color{white}{p(\\boldsymbol \\beta) \\propto 1 \\Longrightarrow} {}& \\color{white}{p(\\boldsymbol \\beta | \\boldsymbol\\Sigma, \\mathbf{X},\\mathbf{y}) = \\mathcal{MVN}\\left(E[\\boldsymbol \\beta | \\boldsymbol\\Sigma, \\mathbf{X},\\mathbf{y}] = (\\mathbf{X}^\\top \\boldsymbol\\Sigma^{-1} \\mathbf{X})^{-1}\\mathbf{X}^\\top \\boldsymbol\\Sigma^{-1}\\mathbf{y}, \\text{Cov}[\\boldsymbol \\beta | \\boldsymbol\\Sigma, \\mathbf{X},\\mathbf{y}] = \\left[\\mathbf{X}^{\\top} \\boldsymbol\\Sigma^{-1} \\mathbf{X} \\right]^{-1} \\right)}\\\\\n",
    "\\color{white}{or} \\quad {}& \\color{white}{\\text{to use a conjugate family of priors...}}\\\\\n",
    "\\color{white}{p(\\boldsymbol \\beta) =} {}& \\color{white}{\\mathcal{MVN}\\left(E[\\boldsymbol \\beta ] = \\boldsymbol \\beta_0, \\text{Cov}[\\boldsymbol \\beta ] = \\boldsymbol \\Sigma_\\beta \\right) \\quad \\text{ so}}\\\\\n",
    "\\color{white}{p(\\boldsymbol \\beta |\\boldsymbol\\Sigma, \\mathbf{X},\\mathbf{y})} \\color{white}{=} {}& \\color{white}{\\mathcal{MVN}\\left(\\overset{E[\\boldsymbol \\beta | \\boldsymbol\\Sigma, \\mathbf{X},\\mathbf{y}] \\; = \\quad\\quad}{\\text{Cov}[\\boldsymbol \\beta | \\boldsymbol\\Sigma, \\mathbf{X},\\mathbf{y}]^{-1}}\\bigg( \\mathbf{X}^\\top \\boldsymbol\\Sigma^{-1}\\mathbf{y} + \\boldsymbol \\Sigma_\\beta^{-1}\\boldsymbol\\beta_0 \\right), \\text{Var}[\\boldsymbol \\beta | \\boldsymbol\\Sigma, \\mathbf{X},\\mathbf{y}] = \\left[\\mathbf{X}^{\\top}\\boldsymbol \\Sigma^{-1} \\mathbf{X} + \\boldsymbol \\Sigma_\\beta^{-1}  \\right]^{-1} \\bigg)}\\\\\n",
    "\\end{align*}\n",
    "\n",
    "<span style='color:white'>\n",
    "\n",
    "\\begin{align*}\n",
    "\\text{Look familiar?}&\\, \\Downarrow{} \\quad\\quad\\quad \\underbrace{\\;\\,\\textbf{mean}\\,\\;}\\quad\\;\\underbrace{\\textbf{precision}}\\\\\n",
    "p(\\theta|x,\\theta_0,\\tau, \\phi) &={} \\text{N}\\left(\\frac{\\left(\\tau \\theta_0+\\phi\\sum_{i=1}^{n}x_{i}\\right)}{(\\tau+n\\phi)}, \\tau+n\\phi \\right)\n",
    "\\end{align*}\n",
    "\n",
    "</span>\n",
    "    "
   ]
  },
  {
   "cell_type": "markdown",
   "id": "aa2d6151",
   "metadata": {
    "slideshow": {
     "slide_type": "slide"
    }
   },
   "source": [
    "# Conjugate Multivariate Normal Priors [3 minutes]\n",
    "\n",
    "\\begin{align*}\n",
    "p(\\mathbf{y} | \\boldsymbol \\beta, \\boldsymbol \\Sigma, \\mathbf{X})= {}& (2\\pi )^{-n/2}\\det({\\boldsymbol {\\Sigma }})^{-1/2}\\,\\exp \\left(-{\\frac {1}{2}}(\\mathbf {y} -\\mathbf{X\\beta})^\\top{\\boldsymbol {\\Sigma }}^{-1}(\\mathbf{y} - \\mathbf{X\\beta})\\right)\\\\\n",
    "\\propto{}& \\exp\\left(\\mathbf{\\beta}^\\top\\mathbf{X}^\\top\\boldsymbol\\Sigma^{-1}\\mathbf{y} - \\frac{1}{2}\\mathbf{\\beta}^\\top \\mathbf{X}^\\top \\boldsymbol\\Sigma^{-1} \\mathbf{X\\beta} \\right)\\\\\n",
    "\\propto{}& \\exp\\left( - \\frac{1}{2} \\left(\\beta - (\\mathbf{X}^\\top \\boldsymbol\\Sigma^{-1} \\mathbf{X})^{-1}\\mathbf{X}^\\top \\boldsymbol\\Sigma^{-1}\\mathbf{y} \\right)^{\\!\\top} \\left[\\mathbf{X}^{\\top} \\boldsymbol\\Sigma^{-1} \\mathbf{X} \\right]\\left(\\beta - (\\mathbf{X}^\\top \\boldsymbol\\Sigma^{-1} \\mathbf{X})^{-1}\\mathbf{X}^\\top \\boldsymbol\\Sigma^{-1}\\mathbf{y} \\right)  \\right)\\\\\n",
    "\\color{white}{p(\\boldsymbol \\beta) \\propto 1 \\Longrightarrow} {}& \\color{white}{p(\\boldsymbol \\beta | \\boldsymbol\\Sigma, \\mathbf{X},\\mathbf{y}) = \\mathcal{MVN}\\left(E[\\boldsymbol \\beta | \\boldsymbol\\Sigma, \\mathbf{X},\\mathbf{y}] = (\\mathbf{X}^\\top \\boldsymbol\\Sigma^{-1} \\mathbf{X})^{-1}\\mathbf{X}^\\top \\boldsymbol\\Sigma^{-1}\\mathbf{y}, \\text{Cov}[\\boldsymbol \\beta | \\boldsymbol\\Sigma, \\mathbf{X},\\mathbf{y}] = \\left[\\mathbf{X}^{\\top} \\boldsymbol\\Sigma^{-1} \\mathbf{X} \\right]^{-1} \\right)}\\\\\n",
    "\\color{white}{or} \\quad {}& \\color{white}{\\text{to use a conjugate family of priors...}}\\\\\n",
    "\\color{white}{p(\\boldsymbol \\beta) =} {}& \\color{white}{\\mathcal{MVN}\\left(E[\\boldsymbol \\beta ] = \\boldsymbol \\beta_0, \\text{Var}[\\boldsymbol \\beta ] = \\boldsymbol \\Sigma_\\beta \\right) \\quad \\text{ so}}\\\\\n",
    "\\color{white}{p(\\boldsymbol \\beta |\\boldsymbol\\Sigma, \\mathbf{X},\\mathbf{y})} \\color{white}{=} {}& \\color{white}{\\mathcal{MVN}\\left(\\overset{E[\\boldsymbol \\beta | \\boldsymbol\\Sigma, \\mathbf{X},\\mathbf{y}] \\; = \\quad\\quad}{\\text{Cov}[\\boldsymbol \\beta | \\boldsymbol\\Sigma, \\mathbf{X},\\mathbf{y}]^{-1}}\\bigg( \\mathbf{X}^\\top \\boldsymbol\\Sigma^{-1}\\mathbf{y} + \\boldsymbol \\Sigma_\\beta^{-1}\\boldsymbol\\beta_0 \\right), \\text{Cov}[\\boldsymbol \\beta | \\boldsymbol\\Sigma, \\mathbf{X},\\mathbf{y}] = \\left[\\mathbf{X}^{\\top}\\boldsymbol \\Sigma^{-1} \\mathbf{X} + \\boldsymbol \\Sigma_\\beta^{-1} \\right]^{-1}  \\bigg)}\\\\\n",
    "\\end{align*}\n",
    "\n",
    "<span style='color:white'>\n",
    "\n",
    "\\begin{align*}\n",
    "\\text{Look familiar?}&\\, \\Downarrow{} \\quad\\quad\\quad \\underbrace{\\;\\,\\textbf{mean}\\,\\;}\\quad\\;\\underbrace{\\textbf{precision}}\\\\\n",
    "p(\\theta|x,\\theta_0,\\tau, \\phi) &={} \\text{N}\\left(\\frac{\\left(\\tau \\theta_0+\\phi\\sum_{i=1}^{n}x_{i}\\right)}{(\\tau+n\\phi)}, \\tau+n\\phi \\right)\n",
    "\\end{align*}\n",
    "\n",
    "</span>\n",
    "    "
   ]
  },
  {
   "cell_type": "markdown",
   "id": "39cc0ef7",
   "metadata": {
    "slideshow": {
     "slide_type": "slide"
    }
   },
   "source": [
    "# Conjugate Multivariate Normal Priors [2 minutes]\n",
    "\n",
    "\\begin{align*}\n",
    "p(\\mathbf{y} | \\boldsymbol \\beta, \\boldsymbol \\Sigma, \\mathbf{X})= {}& (2\\pi )^{-n/2}\\det({\\boldsymbol {\\Sigma }})^{-1/2}\\,\\exp \\left(-{\\frac {1}{2}}(\\mathbf {y} -\\mathbf{X\\beta})^\\top{\\boldsymbol {\\Sigma }}^{-1}(\\mathbf{y} - \\mathbf{X\\beta})\\right)\\\\\n",
    "\\propto{}& \\exp\\left(\\mathbf{\\beta}^\\top\\mathbf{X}^\\top\\boldsymbol\\Sigma^{-1}\\mathbf{y} - \\frac{1}{2}\\mathbf{\\beta}^\\top \\mathbf{X}^\\top \\boldsymbol\\Sigma^{-1} \\mathbf{X\\beta} \\right)\\\\\n",
    "\\propto{}& \\exp\\left( - \\frac{1}{2} \\left(\\beta - (\\mathbf{X}^\\top \\boldsymbol\\Sigma^{-1} \\mathbf{X})^{-1}\\mathbf{X}^\\top \\boldsymbol\\Sigma^{-1}\\mathbf{y} \\right)^{\\!\\top} \\left[\\mathbf{X}^{\\top} \\boldsymbol\\Sigma^{-1} \\mathbf{X} \\right]\\left(\\beta - (\\mathbf{X}^\\top \\boldsymbol\\Sigma^{-1} \\mathbf{X})^{-1}\\mathbf{X}^\\top \\boldsymbol\\Sigma^{-1}\\mathbf{y} \\right)  \\right)\\\\\n",
    "p(\\boldsymbol \\beta) \\propto 1 \\Longrightarrow {}& \\color{white}{p(\\boldsymbol \\beta | \\boldsymbol\\Sigma, \\mathbf{X},\\mathbf{y}) = \\mathcal{MVN}\\left(E[\\boldsymbol \\beta | \\boldsymbol\\Sigma, \\mathbf{X},\\mathbf{y}] = (\\mathbf{X}^\\top \\boldsymbol\\Sigma^{-1} \\mathbf{X})^{-1}\\mathbf{X}^\\top \\boldsymbol\\Sigma^{-1}\\mathbf{y}, \\text{Cov}[\\boldsymbol \\beta | \\boldsymbol\\Sigma, \\mathbf{X},\\mathbf{y}] = \\left[\\mathbf{X}^{\\top} \\boldsymbol\\Sigma^{-1} \\mathbf{X} \\right]^{-1} \\right)}\\\\\n",
    "\\color{white}{or} \\quad {}& \\color{white}{\\text{to use a conjugate family of priors...}}\\\\\n",
    "\\color{white}{p(\\boldsymbol \\beta) =} {}& \\color{white}{\\mathcal{MVN}\\left(E[\\boldsymbol \\beta ] = \\boldsymbol \\beta_0, \\text{Var}[\\boldsymbol \\beta ] = \\boldsymbol \\Sigma_\\beta \\right) \\quad \\text{ so}}\\\\\n",
    "\\color{white}{p(\\boldsymbol \\beta |\\boldsymbol\\Sigma, \\mathbf{X},\\mathbf{y})} \\color{white}{=} {}& \\color{white}{\\mathcal{MVN}\\left(\\overset{E[\\boldsymbol \\beta | \\boldsymbol\\Sigma, \\mathbf{X},\\mathbf{y}] \\; = \\quad\\quad}{\\text{Cov}[\\boldsymbol \\beta | \\boldsymbol\\Sigma, \\mathbf{X},\\mathbf{y}]^{-1}}\\bigg( \\mathbf{X}^\\top \\boldsymbol\\Sigma^{-1}\\mathbf{y} + \\boldsymbol \\Sigma_\\beta^{-1}\\boldsymbol\\beta_0 \\right), \\text{Cov}[\\boldsymbol \\beta | \\boldsymbol\\Sigma, \\mathbf{X},\\mathbf{y}] = \\left[\\mathbf{X}^{\\top}\\boldsymbol \\Sigma^{-1} \\mathbf{X}  + \\boldsymbol \\Sigma_\\beta^{-1} \\right]^{-1} \\bigg)}\\\\\n",
    "\\end{align*}\n",
    "\n",
    "<span style='color:white'>\n",
    "\n",
    "\\begin{align*}\n",
    "\\text{Look familiar?}&\\, \\Downarrow{} \\quad\\quad\\quad \\underbrace{\\;\\,\\textbf{mean}\\,\\;}\\quad\\;\\underbrace{\\textbf{precision}}\\\\\n",
    "p(\\theta|x,\\theta_0,\\tau, \\phi) &={} \\text{N}\\left(\\frac{\\left(\\tau \\theta_0+\\phi\\sum_{i=1}^{n}x_{i}\\right)}{(\\tau+n\\phi)}, \\tau+n\\phi \\right)\n",
    "\\end{align*}\n",
    "\n",
    "</span>\n",
    "    "
   ]
  },
  {
   "cell_type": "markdown",
   "id": "4286e2ce",
   "metadata": {
    "slideshow": {
     "slide_type": "slide"
    }
   },
   "source": [
    "# Conjugate Multivariate Normal Priors [1 minute]\n",
    "\n",
    "\\begin{align*}\n",
    "p(\\mathbf{y} | \\boldsymbol \\beta, \\boldsymbol \\Sigma, \\mathbf{X})= {}& (2\\pi )^{-n/2}\\det({\\boldsymbol {\\Sigma }})^{-1/2}\\,\\exp \\left(-{\\frac {1}{2}}(\\mathbf {y} -\\mathbf{X\\beta})^\\top{\\boldsymbol {\\Sigma }}^{-1}(\\mathbf{y} - \\mathbf{X\\beta})\\right)\\\\\n",
    "\\propto{}& \\exp\\left(\\mathbf{\\beta}^\\top\\mathbf{X}^\\top\\boldsymbol\\Sigma^{-1}\\mathbf{y} - \\frac{1}{2}\\mathbf{\\beta}^\\top \\mathbf{X}^\\top \\boldsymbol\\Sigma^{-1} \\mathbf{X\\beta} \\right)\\\\\n",
    "\\propto{}& \\exp\\left( - \\frac{1}{2} \\left(\\beta - (\\mathbf{X}^\\top \\boldsymbol\\Sigma^{-1} \\mathbf{X})^{-1}\\mathbf{X}^\\top \\boldsymbol\\Sigma^{-1}\\mathbf{y} \\right)^{\\!\\top} \\left[\\mathbf{X}^{\\top} \\boldsymbol\\Sigma^{-1} \\mathbf{X} \\right]\\left(\\beta - (\\mathbf{X}^\\top \\boldsymbol\\Sigma^{-1} \\mathbf{X})^{-1}\\mathbf{X}^\\top \\boldsymbol\\Sigma^{-1}\\mathbf{y} \\right)  \\right)\\\\\n",
    "p(\\boldsymbol \\beta) \\propto 1 \\Longrightarrow {}& p(\\boldsymbol \\beta | \\boldsymbol\\Sigma, \\mathbf{X},\\mathbf{y}) = \\mathcal{MVN}\\left(E[\\boldsymbol \\beta | \\boldsymbol\\Sigma, \\mathbf{X},\\mathbf{y}] = (\\mathbf{X}^\\top \\boldsymbol\\Sigma^{-1} \\mathbf{X})^{-1}\\mathbf{X}^\\top \\boldsymbol\\Sigma^{-1}\\mathbf{y}, \\text{Cov}[\\boldsymbol \\beta | \\boldsymbol\\Sigma, \\mathbf{X},\\mathbf{y}] = \\left[\\mathbf{X}^{\\top} \\boldsymbol\\Sigma^{-1} \\mathbf{X} \\right]^{-1} \\right)\\\\\n",
    "\\color{white}{or} \\quad {}& \\color{white}{\\text{to use a conjugate family of priors...}}\\\\\n",
    "\\color{white}{p(\\boldsymbol \\beta) =} {}& \\color{white}{\\mathcal{MVN}\\left(E[\\boldsymbol \\beta | \\boldsymbol\\Sigma, \\mathbf{X},\\mathbf{y} ] = \\boldsymbol \\beta_0, \\text{Cov}[\\boldsymbol \\beta | \\boldsymbol\\Sigma, \\mathbf{X},\\mathbf{y} ] = \\boldsymbol \\Sigma_\\beta \\right) \\quad \\text{ so}}\\\\\n",
    "\\color{white}{p(\\boldsymbol \\beta |\\boldsymbol\\Sigma, \\mathbf{X},\\mathbf{y})} \\color{white}{=} {}& \\color{white}{\\mathcal{MVN}\\left(\\overset{E[\\boldsymbol \\beta | \\boldsymbol\\Sigma, \\mathbf{X},\\mathbf{y}] \\; = \\quad\\quad}{\\text{Cov}[\\boldsymbol \\beta | \\boldsymbol\\Sigma, \\mathbf{X},\\mathbf{y}]^{-1}}\\bigg( \\mathbf{X}^\\top \\boldsymbol\\Sigma^{-1}\\mathbf{y} + \\boldsymbol \\Sigma_\\beta^{-1}\\boldsymbol\\beta_0 \\right), \\text{Cov}[\\boldsymbol \\beta | \\boldsymbol\\Sigma, \\mathbf{X},\\mathbf{y}] = \\left[\\mathbf{X}^{\\top}\\boldsymbol \\Sigma^{-1} \\mathbf{X}  + \\boldsymbol \\Sigma_\\beta^{-1} \\right]^{-1} \\bigg)}\\\\\n",
    "\\end{align*}\n",
    "\n",
    "<span style='color:white'>\n",
    "\n",
    "\\begin{align*}\n",
    "\\text{Look familiar?}&\\, \\Downarrow{} \\quad\\quad\\quad \\underbrace{\\;\\,\\textbf{mean}\\,\\;}\\quad\\;\\underbrace{\\textbf{precision}}\\\\\n",
    "p(\\theta|x,\\theta_0,\\tau, \\phi) &={} \\text{N}\\left(\\frac{\\left(\\tau \\theta_0+\\phi\\sum_{i=1}^{n}x_{i}\\right)}{(\\tau+n\\phi)}, \\tau+n\\phi \\right)\n",
    "\\end{align*}\n",
    "\n",
    "</span>\n",
    "    "
   ]
  },
  {
   "cell_type": "markdown",
   "id": "03ded3bb",
   "metadata": {
    "slideshow": {
     "slide_type": "slide"
    }
   },
   "source": [
    "# Conjugate Multivariate Normal Priors [1 minute]\n",
    "\n",
    "\\begin{align*}\n",
    "p(\\mathbf{y} | \\boldsymbol \\beta, \\boldsymbol \\Sigma, \\mathbf{X})= {}& (2\\pi )^{-n/2}\\det({\\boldsymbol {\\Sigma }})^{-1/2}\\,\\exp \\left(-{\\frac {1}{2}}(\\mathbf {y} -\\mathbf{X\\beta})^\\top{\\boldsymbol {\\Sigma }}^{-1}(\\mathbf{y} - \\mathbf{X\\beta})\\right)\\\\\n",
    "\\propto{}& \\exp\\left(\\mathbf{\\beta}^\\top\\mathbf{X}^\\top\\boldsymbol\\Sigma^{-1}\\mathbf{y} - \\frac{1}{2}\\mathbf{\\beta}^\\top \\mathbf{X}^\\top \\boldsymbol\\Sigma^{-1} \\mathbf{X\\beta} \\right)\\\\\n",
    "\\propto{}& \\exp\\left( - \\frac{1}{2} \\left(\\beta - (\\mathbf{X}^\\top \\boldsymbol\\Sigma^{-1} \\mathbf{X})^{-1}\\mathbf{X}^\\top \\boldsymbol\\Sigma^{-1}\\mathbf{y} \\right)^{\\!\\top} \\left[\\mathbf{X}^{\\top} \\boldsymbol\\Sigma^{-1} \\mathbf{X} \\right]\\left(\\beta - (\\mathbf{X}^\\top \\boldsymbol\\Sigma^{-1} \\mathbf{X})^{-1}\\mathbf{X}^\\top \\boldsymbol\\Sigma^{-1}\\mathbf{y} \\right)  \\right)\\\\\n",
    "p(\\boldsymbol \\beta) \\propto 1 \\Longrightarrow {}& p(\\boldsymbol \\beta | \\boldsymbol\\Sigma, \\mathbf{X},\\mathbf{y}) = \\mathcal{MVN}\\left(E[\\boldsymbol \\beta | \\boldsymbol\\Sigma, \\mathbf{X},\\mathbf{y}] = (\\mathbf{X}^\\top \\boldsymbol\\Sigma^{-1} \\mathbf{X})^{-1}\\mathbf{X}^\\top \\boldsymbol\\Sigma^{-1}\\mathbf{y}, \\text{Cov}[\\boldsymbol \\beta | \\boldsymbol\\Sigma, \\mathbf{X},\\mathbf{y}] = \\left[\\mathbf{X}^{\\top} \\boldsymbol\\Sigma^{-1} \\mathbf{X} \\right]^{-1} \\right)\\\\\n",
    "or \\quad {}& \\text{to use a conjugate family of priors...}\\\\\n",
    "p(\\boldsymbol \\beta) = {}& \\mathcal{MVN}\\left(E[\\boldsymbol \\beta] = \\boldsymbol \\beta_0, \\text{Cov}[\\boldsymbol \\beta ] = \\boldsymbol \\Sigma_\\beta \\right) \\quad \\text{ so}\\\\\n",
    "\\color{white}{p(\\boldsymbol \\beta |\\boldsymbol\\Sigma, \\mathbf{X},\\mathbf{y})} \\color{white}{=} {}& \\color{white}{\\mathcal{MVN}\\left(\\overset{E[\\boldsymbol \\beta | \\boldsymbol\\Sigma, \\mathbf{X},\\mathbf{y}] \\; = \\quad\\quad}{\\text{Cov}[\\boldsymbol \\beta | \\boldsymbol\\Sigma, \\mathbf{X},\\mathbf{y}]^{-1}} \\bigg( \\mathbf{X}^\\top \\boldsymbol\\Sigma^{-1}\\mathbf{y} + \\boldsymbol \\Sigma_\\beta^{-1}\\boldsymbol\\beta_0 \\right), \\text{Cov}[\\boldsymbol \\beta | \\boldsymbol\\Sigma, \\mathbf{X},\\mathbf{y}] = \\left[\\mathbf{X}^{\\top}\\boldsymbol \\Sigma^{-1} \\mathbf{X} + \\boldsymbol \\Sigma_\\beta^{-1} \\right]^{-1} \\bigg)}\\\\\n",
    "\\end{align*}\n",
    "\n",
    "<span style='color:white'>\n",
    "\n",
    "\\begin{align*}\n",
    "\\text{Look familiar?}&\\, \\Downarrow{} \\quad\\quad\\quad \\underbrace{\\;\\,\\textbf{mean}\\,\\;}\\quad\\;\\underbrace{\\textbf{precision}}\\\\\n",
    "p(\\theta|x,\\theta_0,\\tau, \\phi) &={} \\text{N}\\left(\\frac{\\left(\\tau \\theta_0+\\phi\\sum_{i=1}^{n}x_{i}\\right)}{(\\tau+n\\phi)}, \\tau+n\\phi \\right)\n",
    "\\end{align*}\n",
    "\n",
    "</span>\n",
    "    "
   ]
  },
  {
   "cell_type": "markdown",
   "id": "91a20ada",
   "metadata": {
    "slideshow": {
     "slide_type": "slide"
    }
   },
   "source": [
    "# Conjugate Multivariate Normal Priors [5 minutes]\n",
    "\n",
    "\\begin{align*}\n",
    "p(\\mathbf{y} | \\boldsymbol \\beta, \\boldsymbol \\Sigma, \\mathbf{X})= {}& (2\\pi )^{-n/2}\\det({\\boldsymbol {\\Sigma }})^{-1/2}\\,\\exp \\left(-{\\frac {1}{2}}(\\mathbf {y} -\\mathbf{X\\beta})^\\top{\\boldsymbol {\\Sigma }}^{-1}(\\mathbf{y} - \\mathbf{X\\beta})\\right)\\\\\n",
    "\\propto{}& \\exp\\left(\\mathbf{\\beta}^\\top\\mathbf{X}^\\top\\boldsymbol\\Sigma^{-1}\\mathbf{y} - \\frac{1}{2}\\mathbf{\\beta}^\\top \\mathbf{X}^\\top \\boldsymbol\\Sigma^{-1} \\mathbf{X\\beta} \\right)\\\\\n",
    "\\propto{}& \\exp\\left( - \\frac{1}{2} \\left( \\beta - (\\mathbf{X}^\\top \\boldsymbol\\Sigma^{-1} \\mathbf{X})^{-1}\\mathbf{X}^\\top \\boldsymbol\\Sigma^{-1}\\mathbf{y}\\right)^{\\!\\top} \\left[\\mathbf{X}^{\\top} \\boldsymbol\\Sigma^{-1} \\mathbf{X} \\right]\\left( \\beta - (\\mathbf{X}^\\top \\boldsymbol\\Sigma^{-1} \\mathbf{X})^{-1}\\mathbf{X}^\\top \\boldsymbol\\Sigma^{-1}\\mathbf{y}\\right)  \\right)\\\\\n",
    "p(\\boldsymbol \\beta) \\propto 1 \\Longrightarrow {}& p(\\boldsymbol \\beta | \\boldsymbol\\Sigma, \\mathbf{X},\\mathbf{y}) = \\mathcal{MVN}\\left(E[\\boldsymbol \\beta | \\boldsymbol\\Sigma, \\mathbf{X},\\mathbf{y}] = (\\mathbf{X}^\\top \\boldsymbol\\Sigma^{-1} \\mathbf{X})^{-1}\\mathbf{X}^\\top \\boldsymbol\\Sigma^{-1}\\mathbf{y}, \\text{Cov}[\\boldsymbol \\beta | \\boldsymbol\\Sigma, \\mathbf{X},\\mathbf{y}] = \\left[\\mathbf{X}^{\\top} \\boldsymbol\\Sigma^{-1} \\mathbf{X} \\right]^{-1} \\right)\\\\\n",
    "or \\quad {}& \\text{to use a conjugate family of priors...}\\\\\n",
    "p(\\boldsymbol \\beta) = {}& \\mathcal{MVN}\\left(E[\\boldsymbol \\beta ] = \\boldsymbol \\beta_0, \\text{Cov}[\\boldsymbol \\beta ] = \\boldsymbol \\Sigma_\\beta \\right) \\quad \\text{ so}\\\\\n",
    "p(\\boldsymbol \\beta |\\boldsymbol\\Sigma, \\mathbf{X},\\mathbf{y}) = {}& \\mathcal{MVN}\\left(\\overset{E[\\boldsymbol \\beta | \\boldsymbol\\Sigma, \\mathbf{X},\\mathbf{y}] \\; = \\quad\\quad}{\\text{Cov}[\\boldsymbol \\beta | \\boldsymbol\\Sigma, \\mathbf{X},\\mathbf{y}]}\\bigg( \\mathbf{X}^\\top \\boldsymbol\\Sigma^{-1}\\mathbf{y} + \\boldsymbol \\Sigma_\\beta^{-1}\\boldsymbol\\beta_0 \\right), \\text{Cov}[\\boldsymbol \\beta | \\boldsymbol\\Sigma, \\mathbf{X},\\mathbf{y}] = \\left[\\mathbf{X}^{\\top}\\boldsymbol \\Sigma^{-1} \\mathbf{X}  + \\boldsymbol \\Sigma_\\beta^{-1} \\right]^{-1} \\bigg)\\\\\n",
    "\\end{align*}\n",
    "\n",
    "\n",
    "\\begin{align*}\n",
    "\\text{Look familiar?}&\\, \\Downarrow{} \\quad\\quad\\quad \\underbrace{\\;\\,\\textbf{mean}\\,\\;}\\quad\\;\\underbrace{\\textbf{precision}}\\\\\n",
    "p(\\theta|x,\\theta_0,\\tau, \\phi) &={} \\text{N}\\left(\\frac{\\left(\\tau \\theta_0+\\phi\\sum_{i=1}^{n}x_{i}\\right)}{(\\tau+n\\phi)}, \\tau+n\\phi \\right)\n",
    "\\end{align*}\n",
    "\n"
   ]
  },
  {
   "cell_type": "markdown",
   "id": "ba9d8081",
   "metadata": {
    "slideshow": {
     "slide_type": "slide"
    }
   },
   "source": [
    "# Homework 5: Part II\n",
    "    \n",
    "## Answer the following with respect to $p(\\boldsymbol \\beta |\\boldsymbol\\Sigma, \\mathbf{X},\\mathbf{y})$ on the previous slide\n",
    "    \n",
    "1. Rewrite $p(\\boldsymbol \\beta |\\boldsymbol\\Sigma, \\mathbf{X},\\mathbf{y})$ in terms of $\\sigma^2$ (no longer using $\\Sigma$) if $\\Sigma=\\sigma^2I$\n",
    "\n",
    "2. What is $E[\\boldsymbol \\beta |\\boldsymbol\\Sigma, \\mathbf{X},\\mathbf{y}]$?\n",
    "\n",
    "3. What ***hyperparameters*** values (legal or illegal) would make $E[\\boldsymbol \\beta |\\boldsymbol\\Sigma, \\mathbf{X},\\mathbf{y}] = (\\mathbf{X^\\top X})^{-1}\\mathbf{X^\\top y}$?\n",
    "\n",
    "4. What ***hyperparameters*** values (legal or illegal) would make $E[  \\mathbf{\\hat y} = \\mathbf{X}\\boldsymbol \\beta |\\boldsymbol\\Sigma, \\mathbf{X},\\mathbf{y}] = \\mathbf{X}(\\mathbf{X^\\top X})^{-1}\\mathbf{X^\\top y}$?\n",
    "\n",
    "5. What is $\\text{Var}[\\boldsymbol \\beta |\\boldsymbol\\Sigma, \\mathbf{X},\\mathbf{y}]$?"
   ]
  },
  {
   "cell_type": "markdown",
   "id": "7e97b1f3",
   "metadata": {
    "slideshow": {
     "slide_type": "slide"
    }
   },
   "source": [
    "# Inverse-Wishart Conjugate Priors for $\\Sigma$ [7 minutes]\n",
    "\n",
    "\\begin{align*}\n",
    "p(\\mathbf{y} | \\boldsymbol \\beta, \\Sigma, \\mathbf{X}) = {}& (2\\pi )^{-k/2}\\det({\\boldsymbol {\\Sigma }})^{-1/2}\\,\\exp \\left(-{\\frac {1}{2}}(\\mathbf {y} -\\mathbf{X\\beta})^\\top{\\boldsymbol {\\Sigma }}^{-1}(\\mathbf{y} - \\mathbf{X\\beta})\\right)\\\\\n",
    "= {}& (2\\pi )^{-k/2}\\det({\\boldsymbol {\\Sigma }})^{-1/2}\\,\\exp \\left(-{\\frac {1}{2}} \\textrm{tr}\\big((\\mathbf {y} -\\mathbf{X\\beta})^\\top{\\boldsymbol {\\Sigma }}^{-1}(\\mathbf{y} - \\mathbf{X\\beta})\\big)\\right)\\\\\n",
    "= {}& (2\\pi )^{-k/2}\\det({\\boldsymbol {\\Sigma }})^{-1/2}\\,\\exp \\left(-{\\frac {1}{2}} \\textrm{tr}\\big((\\mathbf{y} - \\mathbf{X\\beta})(\\mathbf {y} -\\mathbf{X\\beta})^\\top{\\boldsymbol {\\Sigma }}^{-1}\\big)\\right)\\\\\n",
    "p(\\boldsymbol \\Sigma) \\propto 1 \\Longrightarrow {}& \n",
    "\\boldsymbol \\Sigma | \\boldsymbol \\beta, \\mathbf{X},\\mathbf{y} \\sim \\mathcal{W}^{-1}\\left({\\mathbf\\Psi} = (\\mathbf{y} - \\mathbf{X\\beta})(\\mathbf {y} -\\mathbf{X\\beta})^\\top, \\nu = -n \\right)\n",
    "\\end{align*}\n",
    "\n",
    "| |\n",
    "|-|\n",
    "|[an Inverse-Wishart distribution](https://en.wikipedia.org/wiki/Inverse-Wishart_distribution)|\n",
    "\n",
    "\\begin{align*}\n",
    "\\color{white}{\\Longrightarrow p(\\boldsymbol \\Sigma ) =} {}& \\color{white}{{\\frac {\\operatorname{det}({\\mathbf {\\Psi } })^{\\nu /2}}{2^{\\nu n/2}\\Gamma _{n}({\\frac {\\nu }{2}})}}\\operatorname{det}(\\boldsymbol \\Sigma)^{-(\\nu +n+1)/2}e^{-{\\frac {1}{2}}\\operatorname{tr} (\\mathbf {\\Psi } \\boldsymbol \\Sigma ^{-1})}\\hspace{1.66in}}\\\\\n",
    "\\color{white}{or} \\quad {}& \\color{white}{\\text{to use a conjugate family of priors...}}\\\\\n",
    "\\color{white}{p(\\boldsymbol \\Sigma) =} {}& \\color{white}{\\mathcal{W}^{-1}\\left(\\boldsymbol\\Psi = \\boldsymbol\\Psi_0, \\nu = n+1 \\right) \\quad \\text{ so}}\\\\\n",
    "\\color{white}{\\boldsymbol \\Sigma | \\boldsymbol \\beta, \\mathbf{X},\\mathbf{y} \\sim }{}& \n",
    "\\color{white}{mathcal{W}^{-1}\\left(\\boldsymbol\\Psi = \\boldsymbol\\Psi_0 + (\\mathbf{y} - \\mathbf{X\\beta})(\\mathbf {y} -\\mathbf{X\\beta})^\\top, \\nu = n+2 \\right)}\n",
    "\\end{align*}\n",
    "\n",
    "<font style='color:white'>since [determinants multiply] and [traces add]</font>\n",
    "\n",
    "\n"
   ]
  },
  {
   "cell_type": "markdown",
   "id": "cf454a4e",
   "metadata": {
    "slideshow": {
     "slide_type": "slide"
    }
   },
   "source": [
    "# Inverse-Wishart Conjugate Priors for $\\Sigma$ [8 minutes]\n",
    "\n",
    "\\begin{align*}\n",
    "p(\\mathbf{y} | \\boldsymbol \\beta, \\Sigma, \\mathbf{X}) = {}& (2\\pi )^{-n/2}\\det({\\boldsymbol {\\Sigma }})^{-1/2}\\,\\exp \\left(-{\\frac {1}{2}}(\\mathbf {y} -\\mathbf{X\\beta})^\\top{\\boldsymbol {\\Sigma }}^{-1}(\\mathbf{y} - \\mathbf{X\\beta})\\right)\\\\\n",
    "= {}& (2\\pi )^{-n/2}\\det({\\boldsymbol {\\Sigma }})^{-1/2}\\,\\exp \\left(-{\\frac {1}{2}} \\textrm{tr}\\big((\\mathbf {y} -\\mathbf{X\\beta})^\\top{\\boldsymbol {\\Sigma }}^{-1}(\\mathbf{y} - \\mathbf{X\\beta})\\big)\\right)\\\\\n",
    "= {}& (2\\pi )^{-n/2}\\det({\\boldsymbol {\\Sigma }})^{-1/2}\\,\\exp \\left(-{\\frac {1}{2}} \\textrm{tr}\\big((\\mathbf{y} - \\mathbf{X\\beta})(\\mathbf {y} -\\mathbf{X\\beta})^\\top{\\boldsymbol {\\Sigma }}^{-1}\\big)\\right)\\\\\n",
    "p(\\boldsymbol \\Sigma) \\propto 1 \\Longrightarrow {}& \n",
    "\\boldsymbol \\Sigma | \\boldsymbol \\beta, \\mathbf{X},\\mathbf{y} \\sim \\mathcal{W}^{-1}\\left({\\mathbf\\Psi} = (\\mathbf{y} - \\mathbf{X\\beta})(\\mathbf {y} -\\mathbf{X\\beta})^\\top, \\nu = -n \\right)\n",
    "\\end{align*}\n",
    "\n",
    "| |\n",
    "|-|\n",
    "|[an Inverse-Wishart distribution](https://en.wikipedia.org/wiki/Inverse-Wishart_distribution)|\n",
    "\n",
    "\\begin{align*}\n",
    "\\Longrightarrow p(\\boldsymbol \\Sigma ) = {}& {\\frac {\\operatorname{det}({\\mathbf {\\Psi } })^{\\nu /2}}{2^{\\nu n/2}\\Gamma _{n}({\\frac {\\nu }{2}})}}\\operatorname{det}(\\boldsymbol \\Sigma)^{-(\\nu +n+1)/2}e^{-{\\frac {1}{2}}\\operatorname{tr} (\\mathbf {\\Psi } \\boldsymbol \\Sigma ^{-1})}\\hspace{1.66in}\\\\\n",
    "or \\quad {}& \\text{to use a conjugate family of priors...}\\\\\n",
    "p(\\boldsymbol \\Sigma) = {}& \\mathcal{W}^{-1}\\left(\\boldsymbol\\Psi = \\boldsymbol\\Psi_0, \\nu = n+1 \\right) \\quad \\text{ so}\\\\\n",
    "\\boldsymbol \\Sigma | \\boldsymbol \\beta, \\mathbf{X},\\mathbf{y} \\sim {}& \\mathcal{W}^{-1}\\left(\\boldsymbol\\Psi = \\boldsymbol\\Psi_0 + (\\mathbf{y} - \\mathbf{X\\beta})(\\mathbf {y} -\\mathbf{X\\beta})^\\top, \\nu = n+2 \\right)\n",
    "\\end{align*}\n",
    "\n",
    "since [determinants multiply](https://proofwiki.org/wiki/Determinant_of_Matrix_Product) and [traces add](https://proofwiki.org/wiki/Trace_of_Sum_of_Matrices_is_Sum_of_Traces#:~:text=let%20A%2BB%20denote%20the,denotes%20the%20trace%20of%20A.)\n",
    "\n",
    "\n"
   ]
  },
  {
   "cell_type": "markdown",
   "id": "909c1730",
   "metadata": {
    "slideshow": {
     "slide_type": "slide"
    }
   },
   "source": [
    "# Inverse-Wishart Distributions [10 minutes]\n",
    "\n"
   ]
  },
  {
   "cell_type": "code",
   "execution_count": 35,
   "id": "736401db",
   "metadata": {},
   "outputs": [
    {
     "name": "stdout",
     "output_type": "stream",
     "text": [
      "Degrees of freedom must be greater than the dimension of scale matrix minus 1.\n"
     ]
    }
   ],
   "source": [
    "import numpy as np; from scipy import stats\n",
    "p = 2; Psi = np.eye(p) # 2x2 identity\n",
    "try:\n",
    "    stats.invwishart(df=-p, scale=Psi)\n",
    "except ValueError as error:\n",
    "    print(error)"
   ]
  },
  {
   "cell_type": "markdown",
   "id": "40238cb7",
   "metadata": {
    "slideshow": {
     "slide_type": "-"
    }
   },
   "source": [
    "So $p(\\boldsymbol \\Sigma) \\propto 1$ is an ***improper prior*** that results in an ***imporoper posterior***\n",
    "\n",
    "If $ p(\\boldsymbol \\Sigma) = \\mathcal{W}^{-1}\\left(\\boldsymbol\\Psi = \\boldsymbol\\Psi_0, \\nu = n+1 \\right  ) $"
   ]
  },
  {
   "cell_type": "code",
   "execution_count": 82,
   "id": "9a54e5f6",
   "metadata": {},
   "outputs": [
    {
     "data": {
      "text/plain": [
       "array([[ 0.47805403, -0.13537446],\n",
       "       [-0.13537446,  0.33091173]])"
      ]
     },
     "execution_count": 82,
     "metadata": {},
     "output_type": "execute_result"
    }
   ],
   "source": [
    "                           # +1 comes from the multivariate normal distribution\n",
    "myIWD = stats.invwishart(df=p+2, scale=Psi); myIWD.rvs(1) # p-1 also won't work"
   ]
  },
  {
   "cell_type": "markdown",
   "id": "07b85b91",
   "metadata": {},
   "source": [
    "$$E[\\boldsymbol \\Sigma] = \\frac{\\boldsymbol\\Psi}{\\nu - p - 1} \\text{ for } \\boldsymbol \\Sigma \\sim \\mathcal{W}^{-1}(\\boldsymbol \\Psi,\\nu) \\text{ with } \\nu>p+1$$\n",
    "\n",
    "That's why we made the \"interesting\" choice of $\\nu = n+1$ for the ***conjugate prior*** specification above\n"
   ]
  },
  {
   "cell_type": "code",
   "execution_count": 86,
   "id": "d135ddf4",
   "metadata": {},
   "outputs": [
    {
     "data": {
      "text/plain": [
       "array([[ 1.00592141, -0.01463375],\n",
       "       [-0.01463375,  1.03781955]])"
      ]
     },
     "execution_count": 86,
     "metadata": {},
     "output_type": "execute_result"
    }
   ],
   "source": [
    "                       # df=p+1 won't work...\n",
    "myIWD = stats.invwishart(df=p+2, scale=Psi); myIWD.rvs(size=100000).mean(axis=0)"
   ]
  },
  {
   "cell_type": "markdown",
   "id": "57aac8b9",
   "metadata": {
    "slideshow": {
     "slide_type": "slide"
    }
   },
   "source": [
    "# The LKJ (instead of the Inverse-Wishart) Distribution [5 minutes]\n",
    "\n",
    "The ***covariance matrix*** $\\boldsymbol \\Sigma_{p \\times p} = \\mathbf{D R D} = \\mathbf{D LL^\\top D}$ for \n",
    "- $\\mathbf{D} = \\operatorname{diag}(\\boldsymbol \\sigma)$ the ***diagonal matrix*** of ***standard deviations*** \n",
    "- $\\mathbf{R}$ the ***correlation matrix*** with all ***diagonal values*** equal to $1$, and \n",
    "- $\\mathbf{L}$ the ***lower diagonal of the Cholesky decomposition*** of $\\mathbf{R}$\n",
    "\n",
    "<span style='color:white'>\n",
    "\n",
    "The ***LKJ (Lewandowski-Kurowicka-Joe) prior*** is simpler than the ***Inverse-Wishart*** and is [simple to evaluate]\n",
    "\n",
    "$$\\require{cancel} \n",
    "\\begin{align*}\n",
    "p(\\mathbf {R}) \\propto &{}\\det(\\mathbf{R})^{\\eta -1} \\quad f^{-1}(L)=R=LL^\\top \\quad J = \\frac{d f^{-1}(L)}{d L} = \\frac{d LL^\\top}{d L} = \\frac{d R}{d L} \\quad J_{ij} = \\frac{dR_i}{dL_j}\\\\\n",
    "p(\\mathbf {L}) =&{} \\det(\\mathbf{LL^\\top})^{\\eta -1} \\det(J) = \\overbrace{\\left(\\prod_{k=1}^p L_{kk}\\right)^{\\eta -1}}^{\\det(\\mathbf{L})^{\\eta -1}}\\overbrace{\\left(\\prod_{k=1}^p L_{kk}^\\top\\right)^{\\eta -1}}^{\\det(\\mathbf{L^\\top})^{\\eta -1}} \\overbrace{\\left(\\prod_{k=1}^p L_{kk}^{p-k}\\right)}^{\\det(J)} = \\prod_{k=\\cancel{1}2}^p L_{kk}^{p-k + 2(\\eta-1)}\n",
    "\\end{align*}$$\n",
    "\n",
    "and provides efficient computation of $(2\\pi )^{-k/2}\\det({\\boldsymbol {\\Sigma }})^{-1/2}\\,\\exp \\left(-{\\frac {1}{2}}(\\mathbf {y} -\\mathbf{X\\beta})^\\top{\\boldsymbol {\\Sigma }}^{-1}(\\mathbf{y} - \\mathbf{X\\beta})\\right)$ since\n",
    "\n",
    "</span>    \n",
    "    \n",
    "- <font style='color:white'>$\\det({\\boldsymbol {\\Sigma }}) =\\det(\\mathbf{LL^T}) = \\prod_{k=1}^p L_{kk}^2$ (as above) and $(\\mathbf{y}-\\boldsymbol\\mu)^\\top\\boldsymbol\\Sigma^{-1}(\\mathbf{y}-\\boldsymbol\\mu) = \\epsilon^\\top L^{-\\top}L^{-1} \\epsilon = (L^{-1} \\epsilon)^\\top(L^{-1} \\epsilon) = x^\\top x$ where $x$ can be efficiently solved for based on ***lower triangular backwards substitution***  $L\\underset{L^{-1} \\epsilon}{x} = \\epsilon$</font>\n",
    "\n"
   ]
  },
  {
   "cell_type": "markdown",
   "id": "77b92138",
   "metadata": {
    "slideshow": {
     "slide_type": "slide"
    }
   },
   "source": [
    "# The LKJ (instead of the Inverse-Wishart) Distribution [7 minutes]\n",
    "\n",
    "The ***covariance matrix*** $\\boldsymbol \\Sigma_{p \\times p} = \\mathbf{D R D} = \\mathbf{D LL^\\top D}$ for \n",
    "- $\\mathbf{D} = \\operatorname{diag}(\\boldsymbol \\sigma)$ the ***diagonal matrix*** of ***standard deviations*** \n",
    "- $\\mathbf{R}$ the ***correlation matrix*** with all ***diagonal values*** equal to $1$, and \n",
    "- $\\mathbf{L}$ the ***lower diagonal of the Cholesky decomposition*** of $\\mathbf{R}$\n",
    "\n",
    "\n",
    "The ***LKJ (Lewandowski-Kurowicka-Joe) prior*** is simpler than the ***Inverse-Wishart*** and is [simple to evaluate](https://mc-stan.org/docs/functions-reference/cholesky-lkj-correlation-distribution.html) \n",
    "\n",
    "$$\\require{cancel} \n",
    "\\begin{align*}\n",
    "p(\\mathbf {R}) \\propto &{}\\det(\\mathbf{R})^{\\eta -1} \\quad f^{-1}(\\mathbf {L})=\\mathbf {R}=\\mathbf {L}\\mathbf {L}^\\top \\quad J = \\frac{d f^{-1}(\\mathbf {L})}{d \\mathbf {L}} = \\frac{d \\mathbf {L}\\mathbf {L}^\\top}{d \\mathbf {L}} = \\frac{d \\mathbf {R}}{d \\mathbf {L}} \\quad J_{ij} = \\frac{d\\mathbf {r}_i}{d\\mathbf {l}_j}\\\\\n",
    "p(\\mathbf {L}) =&{} \\det(\\mathbf{LL^\\top})^{\\eta -1} \\det(J) = \\overbrace{\\left(\\prod_{k=1}^p \\mathbf {L}_{kk}\\right)^{\\eta -1}}^{\\det(\\mathbf{L})^{\\eta -1}}\\overbrace{\\left(\\prod_{k=1}^p \\mathbf {L}_{kk}^\\top\\right)^{\\eta -1}}^{\\det(\\mathbf{L^\\top})^{\\eta -1}} \\overbrace{\\left(\\prod_{k=1}^p \\mathbf {L}_{kk}^{p-k}\\right)}^{\\det(J)} = \\prod_{k=\\cancel{1}2}^p \\mathbf {L}_{kk}^{p-k + 2(\\eta-1)}\n",
    "\\end{align*}$$\n",
    "\n",
    "<span style='color:white'>\n",
    "\n",
    "and provides efficient computation of $(2\\pi )^{-k/2}\\det({\\boldsymbol {\\Sigma }})^{-1/2}\\,\\exp \\left(-{\\frac {1}{2}}(\\mathbf {y} -\\mathbf{X\\beta})^\\top{\\boldsymbol {\\Sigma }}^{-1}(\\mathbf{y} - \\mathbf{X\\beta})\\right)$ since\n",
    "\n",
    "</span>    \n",
    "    \n",
    "- <font style='color:white'>$\\det({\\boldsymbol {\\Sigma }}) =\\det(\\mathbf{LL^T}) = \\prod_{k=1}^p L_{kk}^2$ (as above) and $(\\mathbf{y}-\\boldsymbol\\mu)^\\top\\boldsymbol\\Sigma^{-1}(\\mathbf{y}-\\boldsymbol\\mu) = \\epsilon^\\top L^{-\\top}L^{-1} \\epsilon = (L^{-1} \\epsilon)^\\top(L^{-1} \\epsilon) = x^\\top x$ where $x$ can be efficiently solved for based on ***lower triangular backwards substitution***  $L\\underset{L^{-1} \\epsilon}{x} = \\epsilon$</font>\n",
    "\n"
   ]
  },
  {
   "cell_type": "markdown",
   "id": "59bda6b5",
   "metadata": {
    "slideshow": {
     "slide_type": "slide"
    }
   },
   "source": [
    "# The LKJ (instead of the Inverse-Wishart) Distribution [6 minutes]\n",
    "\n",
    "The ***covariance matrix*** $\\boldsymbol \\Sigma_{p \\times p} = \\mathbf{D R D} = \\mathbf{D LL^\\top D}$ for \n",
    "- $\\mathbf{D} = \\operatorname{diag}(\\boldsymbol \\sigma)$ the ***diagonal matrix*** of ***standard deviations*** \n",
    "- $\\mathbf{R}$ the ***correlation matrix*** with all ***diagonal values*** equal to $1$, and \n",
    "- $\\mathbf{L}$ the ***lower diagonal of the Cholesky decomposition*** of $\\mathbf{R}$\n",
    "\n",
    "The ***LKJ (Lewandowski-Kurowicka-Joe) prior*** is simpler than the ***Inverse-Wishart*** and is [simple to evaluate](https://mc-stan.org/docs/functions-reference/cholesky-lkj-correlation-distribution.html) \n",
    "\n",
    "$$\\require{cancel} \n",
    "\\begin{align*}\n",
    "p(\\mathbf {R}) \\propto &{}\\det(\\mathbf{R})^{\\eta -1} \\quad f^{-1}(\\mathbf {L})=\\mathbf {R}=\\mathbf {L}\\mathbf {L}^\\top \\quad J = \\frac{d f^{-1}(\\mathbf {L})}{d \\mathbf {L}} = \\frac{d \\mathbf {L}\\mathbf {L}^\\top}{d \\mathbf {L}} = \\frac{d \\mathbf {R}}{d \\mathbf {L}} \\quad J_{ij} = \\frac{d\\mathbf {r}_i}{d\\mathbf {l}_j}\\\\\n",
    "p(\\mathbf {L}) =&{} \\det(\\mathbf{LL^\\top})^{\\eta -1} \\det(J) = \\overbrace{\\left(\\prod_{k=1}^p \\mathbf {L}_{kk}\\right)^{\\eta -1}}^{\\det(\\mathbf{L})^{\\eta -1}}\\overbrace{\\left(\\prod_{k=1}^p \\mathbf {L}_{kk}^\\top\\right)^{\\eta -1}}^{\\det(\\mathbf{L^\\top})^{\\eta -1}} \\overbrace{\\left(\\prod_{k=1}^p \\mathbf {L}_{kk}^{p-k}\\right)}^{\\det(J)} = \\prod_{k=\\cancel{1}2}^p \\mathbf {L}_{kk}^{p-k + 2(\\eta-1)}\n",
    "\\end{align*}$$\n",
    "\n",
    "and provides efficient computation of $(2\\pi )^{-k/2}\\det({\\boldsymbol {\\Sigma }})^{-1/2}\\,\\exp \\left(-{\\frac {1}{2}}(\\mathbf {y} -\\mathbf{X\\beta})^\\top{\\boldsymbol {\\Sigma }}^{-1}(\\mathbf{y} - \\mathbf{X\\beta})\\right)$ since\n",
    "\n",
    "- $\\det({\\boldsymbol {\\Sigma }}) =\\det(\\mathbf{LL^T}) = \\prod_{k=1}^p \\mathbf {L}_{kk}^2$ (as above) and $(\\mathbf{y}-\\boldsymbol\\mu)^\\top\\boldsymbol\\Sigma^{-1}(\\mathbf{y}-\\boldsymbol\\mu) = \\boldsymbol \\epsilon^\\top \\mathbf {L}^{-\\top}\\mathbf {L}^{-1} \\boldsymbol \\epsilon = (\\mathbf {L}^{-1} \\boldsymbol \\epsilon)^\\top(\\mathbf {L}^{-1} \\boldsymbol \\epsilon) = \\mathbf {x}^\\top \\mathbf {x}$ where $\\mathbf {x}$ can be efficiently solved for based on ***lower triangular backwards substitution***  $\\mathbf {L}\\underset{\\mathbf {L}^{-1} \\boldsymbol \\epsilon}{x} = \\boldsymbol \\epsilon$ \n",
    "\n"
   ]
  },
  {
   "cell_type": "markdown",
   "id": "6c7a1e49",
   "metadata": {
    "slideshow": {
     "slide_type": "slide"
    }
   },
   "source": [
    "# The LKJ (instead of the Inverse-Wishart) Distribution [4 minutes]\n",
    "\n",
    "\n",
    "$p(\\boldsymbol \\Sigma) = p(\\boldsymbol \\sigma)p(\\mathbf {R})$ and the $\\eta=1$ \n",
    "***hyperparameter*** specifies a uniform distribution on ***correlation matrices***\n",
    "\n",
    "$$p(\\mathbf {R}) \\propto \\det(\\mathbf{R}_{p \\times p})^{\\eta -1} \\quad \\text{ $\\eta=1$ gives proper posteriors since } p(\\mathbf {R}) \\propto 1 \\text{ is not the same as }p(\\boldsymbol \\Sigma)\\propto 1 $$\n",
    "\n",
    "- <font style='color:white'>The absolute ***determinant*** is the product of the ***singular values***<br>(and the ***determinant*** is positive for ***positive definite matrices***)</font>\n",
    "- <font style='color:white'>For ***correlation matrices*** the ***determinant*** is largest when all ***singular values*** (which sum to $p$)<br>\n",
    "are equal to $1$ which happens when all off-diagonal correlations are $0$</font>\n",
    "\n",
    "<font style='color:white'>Increasing $\\eta \\rightarrow \\infty$ thus favors ***correlation matrices*** with \n",
    "smaller magnitudes of component correlations</font>"
   ]
  },
  {
   "cell_type": "code",
   "execution_count": null,
   "id": "16053284",
   "metadata": {},
   "outputs": [],
   "source": [
    "\n",
    "\n",
    "\n",
    "\n",
    "\n",
    "\n"
   ]
  },
  {
   "cell_type": "code",
   "execution_count": null,
   "id": "fcaa7e18",
   "metadata": {},
   "outputs": [],
   "source": [
    "\n",
    "\n",
    "\n",
    "\n",
    "\n",
    "\n"
   ]
  },
  {
   "cell_type": "markdown",
   "id": "564264ea",
   "metadata": {
    "slideshow": {
     "slide_type": "slide"
    }
   },
   "source": [
    "# The LKJ (instead of the Inverse-Wishart) Distribution [4 minutes]\n",
    "\n",
    "\n",
    "$p(\\boldsymbol \\Sigma) = p(\\boldsymbol \\sigma)p(\\mathbf {R})$ and the $\\eta=1$ \n",
    "***hyperparameter*** specifies a uniform distribution on ***correlation matrices***\n",
    "\n",
    "$$p(\\mathbf {R}) \\propto \\det(\\mathbf{R}_{p \\times p})^{\\eta -1} \\quad \\text{ $\\eta=1$ gives proper posteriors since } p(\\mathbf {R}) \\propto 1 \\text{ is not the same as }p(\\boldsymbol \\Sigma)\\propto 1 $$\n",
    "\n",
    "- The absolute ***determinant*** is the product of the ***singular values***<br>(and the ***determinant*** is positive for ***positive definite matrices***)\n",
    "- For ***correlation matrices*** the ***determinant*** is largest when all ***singular values*** (which sum to $p$)<br>\n",
    "are equal to $1$ which happens when all off-diagonal correlations are $0$\n",
    "\n",
    "Increasing $\\eta \\rightarrow \\infty$ thus favors ***correlation matrices*** with \n",
    "smaller magnitudes of component correlations "
   ]
  },
  {
   "cell_type": "code",
   "execution_count": null,
   "id": "c481dff5",
   "metadata": {},
   "outputs": [],
   "source": [
    "\n",
    "\n",
    "\n",
    "\n",
    "\n",
    "\n"
   ]
  },
  {
   "cell_type": "code",
   "execution_count": null,
   "id": "03958e89",
   "metadata": {},
   "outputs": [],
   "source": [
    "\n",
    "\n",
    "\n",
    "\n",
    "\n",
    "\n"
   ]
  },
  {
   "cell_type": "markdown",
   "id": "550e7286",
   "metadata": {
    "slideshow": {
     "slide_type": "slide"
    }
   },
   "source": [
    "# The LKJ (instead of the Inverse-Wishart) Distribution [4 minutes]\n",
    "\n",
    "\n",
    "$p(\\boldsymbol \\Sigma) = p(\\boldsymbol \\sigma)p(\\mathbf {R})$ and the $\\eta=1$ \n",
    "***hyperparameter*** specifies a uniform distribution on ***correlation matrices***\n",
    "\n",
    "$$p(\\mathbf {R}) \\propto \\det(\\mathbf{R}_{p \\times p})^{\\eta -1} \\quad \\text{ $\\eta=1$ gives proper posteriors since } p(\\mathbf {R}) \\propto 1 \\text{ is not the same as }p(\\boldsymbol \\Sigma)\\propto 1 $$\n",
    "\n",
    "- The absolute ***determinant*** is the product of the ***singular values***<br>(and the ***determinant*** is positive for ***positive definite matrices***)\n",
    "- For ***correlation matrices*** the ***determinant*** is largest when all ***singular values*** (which sum to $p$)<br>\n",
    "are equal to $1$ which happens when all off-diagonal correlations are $0$\n",
    "\n",
    "Increasing $\\eta \\rightarrow \\infty$ thus favors ***correlation matrices*** with \n",
    "smaller magnitudes of component correlations "
   ]
  },
  {
   "cell_type": "code",
   "execution_count": 30,
   "id": "338ddfe2",
   "metadata": {},
   "outputs": [
    {
     "data": {
      "text/plain": [
       "array([ 0.15250025, -0.15400333,  1.12802046])"
      ]
     },
     "execution_count": 30,
     "metadata": {},
     "output_type": "execute_result"
    }
   ],
   "source": [
    "import pymc as pm # https://www.pymc.io/projects/examples/en/latest/case_studies/LKJ.html\n",
    "# https://www.pymc.io/projects/docs/en/stable/api/distributions/generated/pymc.LKJCholeskyCov.html\n",
    "with pm.Model() as LKJ:\n",
    "    packed_L = pm.LKJCholeskyCov(\"packed_L\", n=2, eta=2.0, \n",
    "                                 sd_dist=pm.Exponential.dist(1.0, shape=2), compute_corr=False)\n",
    "packed_L.eval()    "
   ]
  },
  {
   "cell_type": "code",
   "execution_count": 31,
   "id": "f1f0e4b7",
   "metadata": {},
   "outputs": [
    {
     "data": {
      "text/plain": [
       "array([[ 0.02325633, -0.02348555],\n",
       "       [-0.02348555,  1.29614719]])"
      ]
     },
     "execution_count": 31,
     "metadata": {},
     "output_type": "execute_result"
    }
   ],
   "source": [
    "with LKJ:\n",
    "    L = pm.expand_packed_triangular(2, packed_L)\n",
    "    Sigma = L.dot(L.T)\n",
    "Sigma.eval()#.shape"
   ]
  },
  {
   "cell_type": "markdown",
   "id": "846e91d9",
   "metadata": {
    "slideshow": {
     "slide_type": "slide"
    }
   },
   "source": [
    "# Bayesian Multivariate Normal Inference: the MVN-LKJ model<br>*as opposed to Bayesian Linear Regression* [5 minutes]\n",
    "\n",
    "$$\\scriptsize\n",
    "\\begin{align*}\\require{cancel}\n",
    "\\mathbf{y}_{n\\times 1} \\sim {} & \\mathcal{MVN}(\\mathbf{X}_{n\\times p}\\boldsymbol{\\beta}_{p\\times 1},\\boldsymbol \\Sigma_{n\\times n} = \\sigma^2I_{n\\times n})\\\\\n",
    "p(\\mathbf{y}|\\boldsymbol \\beta, \\sigma, \\mathbf{X}) = {}& (2\\pi )^{-n/2}\\cancel{\\det({\\boldsymbol {\\Sigma }})^{-1/2}}{\\frac{1}{\\sigma^{\\frac{n}{2}}}}\\exp \\left(-{\\frac {1}{2\\sigma^2}}(\\mathbf {y} -\\mathbf{X\\boldsymbol\\beta})^\\top\\cancel{\\boldsymbol {\\Sigma }^{-1}}(\\mathbf {y} - \\mathbf{X\\boldsymbol\\beta})\\right)\\\\\\\\\\hline\\\\\n",
    "\\mathbf{y}_{n\\times 1} \\sim {} & \\mathcal{MVN}(\\mathbf{X}_{n\\times p}\\boldsymbol{\\beta}_{p\\times 1},\\boldsymbol \\Sigma_{n\\times n} \\cancel{= \\sigma^2I_{n\\times n}})\\\\\n",
    "p(\\mathbf{y}|\\boldsymbol \\beta, \\sigma, \\mathbf{X}) = {}& (2\\pi )^{-n/2}{\\det({\\boldsymbol {\\Sigma }})^{-1/2}}\\exp \\left(-{\\frac {1}{2}}(\\mathbf {y} -\\mathbf{X\\boldsymbol\\beta})^\\top{\\boldsymbol {\\Sigma }^{-1}}(\\mathbf {y} - \\mathbf{X\\boldsymbol\\beta})\\right)\\\\\\\\\\hline\\\\\n",
    "\\mathbf{y}_{i} \\sim {} & \\mathcal{MVN}(\\boldsymbol \\mu,\\boldsymbol \\Sigma = \\mathbf{DRD})\\\\\n",
    "p(\\mathbf{y}|\\boldsymbol \\beta, \\sigma, \\mathbf{X}) = {}& (2\\pi )^{-p/2}{\\det({\\boldsymbol {\\Sigma }})^{-1/2}}\\exp \\left(-{\\frac {1}{2}}(\\mathbf {y} - \\boldsymbol\\mu)^\\top{\\boldsymbol {\\Sigma }^{-1}}(\\mathbf {y} - \\boldsymbol\\mu)\\right)\\\\\n",
    "\\boldsymbol\\beta \\sim {} & \\mathcal{MVN}(\\boldsymbol\\beta_0, \\boldsymbol\\Sigma_\\beta) \\quad\\quad\n",
    "\\mathbf {R} \\sim \\mathcal{LKJ}(\\eta) \\quad\\quad p(\\mathbf {R}) \\propto \\det(\\mathbf{R})^{\\eta -1} \\quad\\quad p(\\mathbf {L}) = \\prod_{k=\\cancel{1}2}^p \\mathbf {L}_{kk}^{p-k + 2(\\eta-1)}\n",
    " \\\\\n",
    "\\sigma_i \\sim {} & exponential(\\lambda)\\quad \\text{ and } \\quad \\mathbf{D}=\\text{diag}(\\boldsymbol \\sigma)  \\quad\\quad\\quad p(\\sigma_i) =  \\lambda e^{-\\lambda \\sigma_i}1_{[0,\\infty]}(\\sigma_i)\n",
    "\\end{align*}$$\n",
    "\n",
    "$$\\color{white}{(2\\pi )^{-p/2}{\\overset{\\prod_{i=1}^nD_{ii}^2L_{ii}^2}{\\det({\\mathbf {DLL^\\top D }}})^{-1/2}}\\exp \\left(-{\\frac {1}{2}}(\\mathbf {y} - \\boldsymbol\\mu)^\\top{ \\overset{\\mathbf {D^{-1}L^{-\\top} L^{-1} D^{-1}} } {(\\mathbf {DLL^\\top D })^{-1}}}(\\mathbf {y} - \\boldsymbol\\mu)\\right) \\overset{  \\prod_{k=\\cancel{1}2}^p \\mathbf {L}_{kk}^{p-k + 2(\\eta-1)}}{\\times \\underset{p(\\mathbf{R})}{\\det(\\mathbf{R})^{\\eta -1}} \\times}  \\prod_{i=1}^p \\lambda e^{-\\lambda \\sigma_i}1_{[0,\\infty]}(\\sigma_i)}$$\n"
   ]
  },
  {
   "cell_type": "markdown",
   "id": "c762d693",
   "metadata": {
    "slideshow": {
     "slide_type": "slide"
    }
   },
   "source": [
    "# Bayesian Multivariate Normal Inference: the MVN-LKJ model<br>*as opposed to Bayesian Linear Regression* [3 minutes]\n",
    "\n",
    "$$\\scriptsize\n",
    "\\begin{align*}\\require{cancel}\n",
    "\\mathbf{y}_{n\\times 1} \\sim {} & \\mathcal{MVN}(\\mathbf{X}_{n\\times p}\\boldsymbol{\\beta}_{p\\times 1},\\boldsymbol \\Sigma_{n\\times n} = \\sigma^2I_{n\\times n})\\\\\n",
    "p(\\mathbf{y}|\\boldsymbol \\beta, \\sigma, \\mathbf{X}) = {}& (2\\pi )^{-n/2}\\cancel{\\det({\\boldsymbol {\\Sigma }})^{-1/2}}{\\frac{1}{\\sigma^{\\frac{n}{2}}}}\\exp \\left(-{\\frac {1}{2\\sigma^2}}(\\mathbf {y} -\\mathbf{X\\boldsymbol\\beta})^\\top\\cancel{\\boldsymbol {\\Sigma }^{-1}}(\\mathbf {y} - \\mathbf{X\\boldsymbol\\beta})\\right)\\\\\\\\\\hline\\\\\n",
    "\\mathbf{y}_{n\\times 1} \\sim {} & \\mathcal{MVN}(\\mathbf{X}_{n\\times p}\\boldsymbol{\\beta}_{p\\times 1},\\boldsymbol \\Sigma_{n\\times n} \\cancel{= \\sigma^2I_{n\\times n}})\\\\\n",
    "p(\\mathbf{y}|\\boldsymbol \\beta, \\sigma, \\mathbf{X}) = {}& (2\\pi )^{-n/2}{\\det({\\boldsymbol {\\Sigma }})^{-1/2}}\\exp \\left(-{\\frac {1}{2}}(\\mathbf {y} -\\mathbf{X\\boldsymbol\\beta})^\\top{\\boldsymbol {\\Sigma }^{-1}}(\\mathbf {y} - \\mathbf{X\\boldsymbol\\beta})\\right)\\\\\\\\\\hline\\\\\n",
    "\\mathbf{y}_{i} \\sim {} & \\mathcal{MVN}(\\boldsymbol \\mu,\\boldsymbol \\Sigma = \\mathbf{DRD})\\\\\n",
    "p(\\mathbf{y}|\\boldsymbol \\beta, \\sigma, \\mathbf{X}) = {}& (2\\pi )^{-p/2}{\\det({\\boldsymbol {\\Sigma }})^{-1/2}}\\exp \\left(-{\\frac {1}{2}}(\\mathbf {y} - \\boldsymbol\\mu)^\\top{\\boldsymbol {\\Sigma }^{-1}}(\\mathbf {y} - \\boldsymbol\\mu)\\right)\\\\\n",
    "\\boldsymbol\\beta \\sim {} & \\mathcal{MVN}(\\boldsymbol\\beta_0, \\boldsymbol\\Sigma_\\beta) \\quad\\quad\n",
    "\\mathbf {R} \\sim \\mathcal{LKJ}(\\eta) \\quad\\quad p(\\mathbf {R}) \\propto \\det(\\mathbf{R})^{\\eta -1} \\quad\\quad p(\\mathbf {L}) = \\prod_{k=\\cancel{1}2}^p \\mathbf {L}_{kk}^{p-k + 2(\\eta-1)}\n",
    " \\\\\n",
    "\\sigma_i \\sim {} & exponential(\\lambda)\\quad \\text{ and } \\quad \\mathbf{D}=\\text{diag}(\\boldsymbol \\sigma)  \\quad\\quad\\quad p(\\sigma_i) =  \\lambda e^{-\\lambda \\sigma_i}1_{[0,\\infty]}(\\sigma_i)\n",
    "\\end{align*}$$\n",
    "\n",
    "$$\\color{gray}{(2\\pi )^{-p/2}{\\overset{\\prod_{i=1}^nD_{ii}^2L_{ii}^2}{\\det({\\mathbf {DLL^\\top D }}})^{-1/2}}\\exp \\left(-{\\frac {1}{2}}(\\mathbf {y} - \\boldsymbol\\mu)^\\top{ \\overset{\\mathbf {D^{-1}L^{-\\top} L^{-1} D^{-1}} } {(\\mathbf {DLL^\\top D })^{-1}}}(\\mathbf {y} - \\boldsymbol\\mu)\\right) \\overset{  \\prod_{k=\\cancel{1}2}^p \\mathbf {L}_{kk}^{p-k + 2(\\eta-1)}}{\\times \\underset{p(\\mathbf{R})}{\\det(\\mathbf{R})^{\\eta -1}} \\times}  \\prod_{i=1}^p \\lambda e^{-\\lambda \\sigma_i}1_{[0,\\infty]}(\\sigma_i)}$$\n"
   ]
  },
  {
   "cell_type": "markdown",
   "id": "a449185a",
   "metadata": {
    "slideshow": {
     "slide_type": "slide"
    }
   },
   "source": [
    "# Bayesian Multivariate Normal Inference: the MVN-LKJ model<br>*as opposed to Bayesian Linear Regression* [12 minutes]\n"
   ]
  },
  {
   "cell_type": "code",
   "execution_count": 3,
   "id": "90ab29ab",
   "metadata": {},
   "outputs": [
    {
     "name": "stderr",
     "output_type": "stream",
     "text": [
      "Auto-assigning NUTS sampler...\n",
      "Initializing NUTS using jitter+adapt_diag...\n",
      "Multiprocess sampling (4 chains in 4 jobs)\n",
      "NUTS: [packed_L, mu]\n"
     ]
    },
    {
     "data": {
      "text/html": [
       "\n",
       "<style>\n",
       "    /* Turns off some styling */\n",
       "    progress {\n",
       "        /* gets rid of default border in Firefox and Opera. */\n",
       "        border: none;\n",
       "        /* Needs to be in here for Safari polyfill so background images work as expected. */\n",
       "        background-size: auto;\n",
       "    }\n",
       "    progress:not([value]), progress:not([value])::-webkit-progress-bar {\n",
       "        background: repeating-linear-gradient(45deg, #7e7e7e, #7e7e7e 10px, #5c5c5c 10px, #5c5c5c 20px);\n",
       "    }\n",
       "    .progress-bar-interrupted, .progress-bar-interrupted::-webkit-progress-bar {\n",
       "        background: #F44336;\n",
       "    }\n",
       "</style>\n"
      ],
      "text/plain": [
       "<IPython.core.display.HTML object>"
      ]
     },
     "metadata": {},
     "output_type": "display_data"
    },
    {
     "data": {
      "text/html": [
       "\n",
       "    <div>\n",
       "      <progress value='8000' class='' max='8000' style='width:300px; height:20px; vertical-align: middle;'></progress>\n",
       "      100.00% [8000/8000 20:50&lt;00:00 Sampling 4 chains, 0 divergences]\n",
       "    </div>\n",
       "    "
      ],
      "text/plain": [
       "<IPython.core.display.HTML object>"
      ]
     },
     "metadata": {},
     "output_type": "display_data"
    },
    {
     "name": "stderr",
     "output_type": "stream",
     "text": [
      "Sampling 4 chains for 1_000 tune and 1_000 draw iterations (4_000 + 4_000 draws total) took 1251 seconds.\n"
     ]
    }
   ],
   "source": [
    "import numpy as np; from scipy import stats; import pymc as pm; p=25; Psi=np.eye(p); a_cov = stats.invwishart(df=10*p+2, scale=Psi).rvs()\n",
    "n=500; y=stats.multivariate_normal(mean=np.zeros(p), cov=a_cov).rvs(size=n)\n",
    "with pm.Model() as MNV_LKJ:\n",
    "    packed_L = pm.LKJCholeskyCov(\"packed_L\", n=p, eta=2.0, sd_dist=pm.Exponential.dist(1.0, shape=2), compute_corr=False)\n",
    "    L = pm.expand_packed_triangular(p, packed_L); Sigma = pm.Deterministic('Sigma', L.dot(L.T))\n",
    "    mu = pm.MvNormal('mu', mu=np.array(0), cov=np.eye(p), shape=p); \n",
    "    lik = pm.MvNormal('lik', mu=mu, cov=Sigma, shape=(n,1), observed=y)\n",
    "    idata = pm.sample()"
   ]
  },
  {
   "cell_type": "code",
   "execution_count": null,
   "id": "92195e83",
   "metadata": {},
   "outputs": [],
   "source": [
    "with pm.Model() as MNV_LKJ:\n",
    "    packed_L = pm. LKJCholeskyCov(\"packed_L\", n=p, eta=2.0,\n",
    "    sd_dist=pm.Gamma.dist (alpha = 2, beta = 2), compute_corr=False)\n",
    "    L = pm. expand_packed_triangular (p, packed_L);\n",
    "    Sigma = pm.Deterministic( 'Sigma', L.dot (L.T))\n",
    "    mu = pm.Normal('mu', mu=1, sigma = 1);\n",
    "    lik = pm.MvNormal('lik', mu=mu, cov=Sigma, observed=y)\n",
    "    idata = pm.sample()"
   ]
  },
  {
   "cell_type": "code",
   "execution_count": 29,
   "id": "7544fd54",
   "metadata": {},
   "outputs": [
    {
     "ename": "IndexError",
     "evalue": "index 4 is out of bounds for axis 0 with size 4",
     "output_type": "error",
     "traceback": [
      "\u001b[0;31m---------------------------------------------------------------------------\u001b[0m",
      "\u001b[0;31mIndexError\u001b[0m                                Traceback (most recent call last)",
      "\u001b[0;32m/var/folders/sd/hnfh4zsn34d7xpbz9226pz200000gn/T/ipykernel_81592/3882271250.py\u001b[0m in \u001b[0;36m<module>\u001b[0;34m\u001b[0m\n\u001b[1;32m      1\u001b[0m \u001b[0;32mimport\u001b[0m \u001b[0mmatplotlib\u001b[0m\u001b[0;34m.\u001b[0m\u001b[0mpyplot\u001b[0m \u001b[0;32mas\u001b[0m \u001b[0mplt\u001b[0m\u001b[0;34m;\u001b[0m \u001b[0mfig\u001b[0m\u001b[0;34m,\u001b[0m\u001b[0max\u001b[0m \u001b[0;34m=\u001b[0m \u001b[0mplt\u001b[0m\u001b[0;34m.\u001b[0m\u001b[0msubplots\u001b[0m\u001b[0;34m(\u001b[0m\u001b[0;36m1\u001b[0m\u001b[0;34m,\u001b[0m\u001b[0;36m5\u001b[0m\u001b[0;34m,\u001b[0m\u001b[0mfigsize\u001b[0m\u001b[0;34m=\u001b[0m\u001b[0;34m(\u001b[0m\u001b[0;36m18\u001b[0m\u001b[0;34m,\u001b[0m\u001b[0;36m4\u001b[0m\u001b[0;34m)\u001b[0m\u001b[0;34m)\u001b[0m\u001b[0;34m;\u001b[0m \u001b[0max\u001b[0m\u001b[0;34m[\u001b[0m\u001b[0;34m-\u001b[0m\u001b[0;36m1\u001b[0m\u001b[0;34m]\u001b[0m\u001b[0;34m.\u001b[0m\u001b[0mimshow\u001b[0m\u001b[0;34m(\u001b[0m\u001b[0ma_cov\u001b[0m\u001b[0;34m)\u001b[0m\u001b[0;34m;\u001b[0m \u001b[0max\u001b[0m\u001b[0;34m[\u001b[0m\u001b[0;36m0\u001b[0m\u001b[0;34m]\u001b[0m\u001b[0;34m.\u001b[0m\u001b[0mset_title\u001b[0m\u001b[0;34m(\u001b[0m\u001b[0;34m(\u001b[0m\u001b[0;34m\"Sigma used to generate y\"\u001b[0m\u001b[0;34m)\u001b[0m\u001b[0;34m)\u001b[0m\u001b[0;34m\u001b[0m\u001b[0;34m\u001b[0m\u001b[0m\n\u001b[1;32m      2\u001b[0m \u001b[0;32mfor\u001b[0m \u001b[0mchain\u001b[0m \u001b[0;32min\u001b[0m \u001b[0mrange\u001b[0m\u001b[0;34m(\u001b[0m\u001b[0;36m4\u001b[0m\u001b[0;34m)\u001b[0m\u001b[0;34m:\u001b[0m\u001b[0;34m\u001b[0m\u001b[0;34m\u001b[0m\u001b[0m\n\u001b[0;32m----> 3\u001b[0;31m     \u001b[0max\u001b[0m\u001b[0;34m[\u001b[0m\u001b[0mchain\u001b[0m\u001b[0;34m]\u001b[0m\u001b[0;34m.\u001b[0m\u001b[0mimshow\u001b[0m\u001b[0;34m(\u001b[0m\u001b[0midata\u001b[0m\u001b[0;34m.\u001b[0m\u001b[0mposterior\u001b[0m\u001b[0;34m[\u001b[0m\u001b[0;34m'Sigma'\u001b[0m\u001b[0;34m]\u001b[0m\u001b[0;34m.\u001b[0m\u001b[0mmean\u001b[0m\u001b[0;34m(\u001b[0m\u001b[0maxis\u001b[0m\u001b[0;34m=\u001b[0m\u001b[0;36m1\u001b[0m\u001b[0;34m)\u001b[0m\u001b[0;34m[\u001b[0m\u001b[0mchain\u001b[0m\u001b[0;34m+\u001b[0m\u001b[0;36m1\u001b[0m\u001b[0;34m]\u001b[0m\u001b[0;34m)\u001b[0m\u001b[0;34m;\u001b[0m \u001b[0max\u001b[0m\u001b[0;34m[\u001b[0m\u001b[0mchain\u001b[0m\u001b[0;34m]\u001b[0m\u001b[0;34m.\u001b[0m\u001b[0mset_title\u001b[0m\u001b[0;34m(\u001b[0m\u001b[0;34m(\u001b[0m\u001b[0;34m\"chian\"\u001b[0m\u001b[0;34m,\u001b[0m\u001b[0mchain\u001b[0m\u001b[0;34m,\u001b[0m\u001b[0;34m\"mean Sigma\"\u001b[0m\u001b[0;34m)\u001b[0m\u001b[0;34m)\u001b[0m\u001b[0;34m\u001b[0m\u001b[0;34m\u001b[0m\u001b[0m\n\u001b[0m",
      "\u001b[0;32m~/miniconda3/envs/PyMC/lib/python3.11/site-packages/xarray/core/dataarray.py\u001b[0m in \u001b[0;36m__getitem__\u001b[0;34m(self, key)\u001b[0m\n\u001b[1;32m    845\u001b[0m         \u001b[0;32melse\u001b[0m\u001b[0;34m:\u001b[0m\u001b[0;34m\u001b[0m\u001b[0;34m\u001b[0m\u001b[0m\n\u001b[1;32m    846\u001b[0m             \u001b[0;31m# xarray-style array indexing\u001b[0m\u001b[0;34m\u001b[0m\u001b[0;34m\u001b[0m\u001b[0m\n\u001b[0;32m--> 847\u001b[0;31m             \u001b[0;32mreturn\u001b[0m \u001b[0mself\u001b[0m\u001b[0;34m.\u001b[0m\u001b[0misel\u001b[0m\u001b[0;34m(\u001b[0m\u001b[0mindexers\u001b[0m\u001b[0;34m=\u001b[0m\u001b[0mself\u001b[0m\u001b[0;34m.\u001b[0m\u001b[0m_item_key_to_dict\u001b[0m\u001b[0;34m(\u001b[0m\u001b[0mkey\u001b[0m\u001b[0;34m)\u001b[0m\u001b[0;34m)\u001b[0m\u001b[0;34m\u001b[0m\u001b[0;34m\u001b[0m\u001b[0m\n\u001b[0m\u001b[1;32m    848\u001b[0m \u001b[0;34m\u001b[0m\u001b[0m\n\u001b[1;32m    849\u001b[0m     \u001b[0;32mdef\u001b[0m \u001b[0m__setitem__\u001b[0m\u001b[0;34m(\u001b[0m\u001b[0mself\u001b[0m\u001b[0;34m,\u001b[0m \u001b[0mkey\u001b[0m\u001b[0;34m:\u001b[0m \u001b[0mAny\u001b[0m\u001b[0;34m,\u001b[0m \u001b[0mvalue\u001b[0m\u001b[0;34m:\u001b[0m \u001b[0mAny\u001b[0m\u001b[0;34m)\u001b[0m \u001b[0;34m->\u001b[0m \u001b[0;32mNone\u001b[0m\u001b[0;34m:\u001b[0m\u001b[0;34m\u001b[0m\u001b[0;34m\u001b[0m\u001b[0m\n",
      "\u001b[0;32m~/miniconda3/envs/PyMC/lib/python3.11/site-packages/xarray/core/dataarray.py\u001b[0m in \u001b[0;36misel\u001b[0;34m(self, indexers, drop, missing_dims, **indexers_kwargs)\u001b[0m\n\u001b[1;32m   1451\u001b[0m         \u001b[0;31m# lists, or zero or one-dimensional np.ndarray's\u001b[0m\u001b[0;34m\u001b[0m\u001b[0;34m\u001b[0m\u001b[0m\n\u001b[1;32m   1452\u001b[0m \u001b[0;34m\u001b[0m\u001b[0m\n\u001b[0;32m-> 1453\u001b[0;31m         \u001b[0mvariable\u001b[0m \u001b[0;34m=\u001b[0m \u001b[0mself\u001b[0m\u001b[0;34m.\u001b[0m\u001b[0m_variable\u001b[0m\u001b[0;34m.\u001b[0m\u001b[0misel\u001b[0m\u001b[0;34m(\u001b[0m\u001b[0mindexers\u001b[0m\u001b[0;34m,\u001b[0m \u001b[0mmissing_dims\u001b[0m\u001b[0;34m=\u001b[0m\u001b[0mmissing_dims\u001b[0m\u001b[0;34m)\u001b[0m\u001b[0;34m\u001b[0m\u001b[0;34m\u001b[0m\u001b[0m\n\u001b[0m\u001b[1;32m   1454\u001b[0m         \u001b[0mindexes\u001b[0m\u001b[0;34m,\u001b[0m \u001b[0mindex_variables\u001b[0m \u001b[0;34m=\u001b[0m \u001b[0misel_indexes\u001b[0m\u001b[0;34m(\u001b[0m\u001b[0mself\u001b[0m\u001b[0;34m.\u001b[0m\u001b[0mxindexes\u001b[0m\u001b[0;34m,\u001b[0m \u001b[0mindexers\u001b[0m\u001b[0;34m)\u001b[0m\u001b[0;34m\u001b[0m\u001b[0;34m\u001b[0m\u001b[0m\n\u001b[1;32m   1455\u001b[0m \u001b[0;34m\u001b[0m\u001b[0m\n",
      "\u001b[0;32m~/miniconda3/envs/PyMC/lib/python3.11/site-packages/xarray/core/variable.py\u001b[0m in \u001b[0;36misel\u001b[0;34m(self, indexers, missing_dims, **indexers_kwargs)\u001b[0m\n\u001b[1;32m   1366\u001b[0m \u001b[0;34m\u001b[0m\u001b[0m\n\u001b[1;32m   1367\u001b[0m         \u001b[0mkey\u001b[0m \u001b[0;34m=\u001b[0m \u001b[0mtuple\u001b[0m\u001b[0;34m(\u001b[0m\u001b[0mindexers\u001b[0m\u001b[0;34m.\u001b[0m\u001b[0mget\u001b[0m\u001b[0;34m(\u001b[0m\u001b[0mdim\u001b[0m\u001b[0;34m,\u001b[0m \u001b[0mslice\u001b[0m\u001b[0;34m(\u001b[0m\u001b[0;32mNone\u001b[0m\u001b[0;34m)\u001b[0m\u001b[0;34m)\u001b[0m \u001b[0;32mfor\u001b[0m \u001b[0mdim\u001b[0m \u001b[0;32min\u001b[0m \u001b[0mself\u001b[0m\u001b[0;34m.\u001b[0m\u001b[0mdims\u001b[0m\u001b[0;34m)\u001b[0m\u001b[0;34m\u001b[0m\u001b[0;34m\u001b[0m\u001b[0m\n\u001b[0;32m-> 1368\u001b[0;31m         \u001b[0;32mreturn\u001b[0m \u001b[0mself\u001b[0m\u001b[0;34m[\u001b[0m\u001b[0mkey\u001b[0m\u001b[0;34m]\u001b[0m\u001b[0;34m\u001b[0m\u001b[0;34m\u001b[0m\u001b[0m\n\u001b[0m\u001b[1;32m   1369\u001b[0m \u001b[0;34m\u001b[0m\u001b[0m\n\u001b[1;32m   1370\u001b[0m     \u001b[0;32mdef\u001b[0m \u001b[0msqueeze\u001b[0m\u001b[0;34m(\u001b[0m\u001b[0mself\u001b[0m\u001b[0;34m,\u001b[0m \u001b[0mdim\u001b[0m\u001b[0;34m=\u001b[0m\u001b[0;32mNone\u001b[0m\u001b[0;34m)\u001b[0m\u001b[0;34m:\u001b[0m\u001b[0;34m\u001b[0m\u001b[0;34m\u001b[0m\u001b[0m\n",
      "\u001b[0;32m~/miniconda3/envs/PyMC/lib/python3.11/site-packages/xarray/core/variable.py\u001b[0m in \u001b[0;36m__getitem__\u001b[0;34m(self, key)\u001b[0m\n\u001b[1;32m    890\u001b[0m         \"\"\"\n\u001b[1;32m    891\u001b[0m         \u001b[0mdims\u001b[0m\u001b[0;34m,\u001b[0m \u001b[0mindexer\u001b[0m\u001b[0;34m,\u001b[0m \u001b[0mnew_order\u001b[0m \u001b[0;34m=\u001b[0m \u001b[0mself\u001b[0m\u001b[0;34m.\u001b[0m\u001b[0m_broadcast_indexes\u001b[0m\u001b[0;34m(\u001b[0m\u001b[0mkey\u001b[0m\u001b[0;34m)\u001b[0m\u001b[0;34m\u001b[0m\u001b[0;34m\u001b[0m\u001b[0m\n\u001b[0;32m--> 892\u001b[0;31m         \u001b[0mdata\u001b[0m \u001b[0;34m=\u001b[0m \u001b[0mas_indexable\u001b[0m\u001b[0;34m(\u001b[0m\u001b[0mself\u001b[0m\u001b[0;34m.\u001b[0m\u001b[0m_data\u001b[0m\u001b[0;34m)\u001b[0m\u001b[0;34m[\u001b[0m\u001b[0mindexer\u001b[0m\u001b[0;34m]\u001b[0m\u001b[0;34m\u001b[0m\u001b[0;34m\u001b[0m\u001b[0m\n\u001b[0m\u001b[1;32m    893\u001b[0m         \u001b[0;32mif\u001b[0m \u001b[0mnew_order\u001b[0m\u001b[0;34m:\u001b[0m\u001b[0;34m\u001b[0m\u001b[0;34m\u001b[0m\u001b[0m\n\u001b[1;32m    894\u001b[0m             \u001b[0mdata\u001b[0m \u001b[0;34m=\u001b[0m \u001b[0mnp\u001b[0m\u001b[0;34m.\u001b[0m\u001b[0mmoveaxis\u001b[0m\u001b[0;34m(\u001b[0m\u001b[0mdata\u001b[0m\u001b[0;34m,\u001b[0m \u001b[0mrange\u001b[0m\u001b[0;34m(\u001b[0m\u001b[0mlen\u001b[0m\u001b[0;34m(\u001b[0m\u001b[0mnew_order\u001b[0m\u001b[0;34m)\u001b[0m\u001b[0;34m)\u001b[0m\u001b[0;34m,\u001b[0m \u001b[0mnew_order\u001b[0m\u001b[0;34m)\u001b[0m\u001b[0;34m\u001b[0m\u001b[0;34m\u001b[0m\u001b[0m\n",
      "\u001b[0;32m~/miniconda3/envs/PyMC/lib/python3.11/site-packages/xarray/core/indexing.py\u001b[0m in \u001b[0;36m__getitem__\u001b[0;34m(self, key)\u001b[0m\n\u001b[1;32m   1331\u001b[0m     \u001b[0;32mdef\u001b[0m \u001b[0m__getitem__\u001b[0m\u001b[0;34m(\u001b[0m\u001b[0mself\u001b[0m\u001b[0;34m,\u001b[0m \u001b[0mkey\u001b[0m\u001b[0;34m)\u001b[0m\u001b[0;34m:\u001b[0m\u001b[0;34m\u001b[0m\u001b[0;34m\u001b[0m\u001b[0m\n\u001b[1;32m   1332\u001b[0m         \u001b[0marray\u001b[0m\u001b[0;34m,\u001b[0m \u001b[0mkey\u001b[0m \u001b[0;34m=\u001b[0m \u001b[0mself\u001b[0m\u001b[0;34m.\u001b[0m\u001b[0m_indexing_array_and_key\u001b[0m\u001b[0;34m(\u001b[0m\u001b[0mkey\u001b[0m\u001b[0;34m)\u001b[0m\u001b[0;34m\u001b[0m\u001b[0;34m\u001b[0m\u001b[0m\n\u001b[0;32m-> 1333\u001b[0;31m         \u001b[0;32mreturn\u001b[0m \u001b[0marray\u001b[0m\u001b[0;34m[\u001b[0m\u001b[0mkey\u001b[0m\u001b[0;34m]\u001b[0m\u001b[0;34m\u001b[0m\u001b[0;34m\u001b[0m\u001b[0m\n\u001b[0m\u001b[1;32m   1334\u001b[0m \u001b[0;34m\u001b[0m\u001b[0m\n\u001b[1;32m   1335\u001b[0m     \u001b[0;32mdef\u001b[0m \u001b[0m__setitem__\u001b[0m\u001b[0;34m(\u001b[0m\u001b[0mself\u001b[0m\u001b[0;34m,\u001b[0m \u001b[0mkey\u001b[0m\u001b[0;34m,\u001b[0m \u001b[0mvalue\u001b[0m\u001b[0;34m)\u001b[0m\u001b[0;34m:\u001b[0m\u001b[0;34m\u001b[0m\u001b[0;34m\u001b[0m\u001b[0m\n",
      "\u001b[0;31mIndexError\u001b[0m: index 4 is out of bounds for axis 0 with size 4"
     ]
    },
    {
     "data": {
      "image/png": "[encoded data removed]",
      "text/plain": [
       "<Figure size 1800x400 with 5 Axes>"
      ]
     },
     "metadata": {},
     "output_type": "display_data"
    }
   ],
   "source": [
    "import matplotlib.pyplot as plt; fig,ax = plt.subplots(1,5,figsize=(18,4)); ax[-1].imshow(a_cov); ax[0].set_title((\"Sigma used to generate y\"))\n",
    "for chain in range(4):\n",
    "    ax[chain].imshow(idata.posterior['Sigma'].mean(axis=1)[chain+1]); ax[chain].set_title((\"chian\",chain,\"mean Sigma\"))"
   ]
  },
  {
   "cell_type": "markdown",
   "id": "b7ad2ed1",
   "metadata": {
    "slideshow": {
     "slide_type": "slide"
    }
   },
   "source": [
    "# Homework 5: Part III\n",
    "\n",
    "1. Go get data from kaggle.com and perform inference for a ***Bayesian Multivariate Normal Model***\n",
    "\n",
    "<SPAN STYLE=\"font-size:18.0pt\">\n",
    "\n",
    "```python\n",
    "import numpy as np; from scipy import stats\n",
    "p=10; Psi=np.eye(p); a_cov = stats.invwishart(df=p+2, scale=Psi).rvs(1)\n",
    "n=1000; y=stats.multivariate_normal(mean=np.zeros(p), cov=a_cov).rvs(size=n)\n",
    "# Replace this made up data with your data set from kaggle...\n",
    "    \n",
    "with pm.Model() as MNV_LKJ:\n",
    "    packed_L = pm.LKJCholeskyCov(\"packed_L\", n=p, eta=2.0,\n",
    "                                 sd_dist=pm.Exponential.dist(1.0, shape=2), compute_corr=False)\n",
    "    L = pm.expand_packed_triangular(p, packed_L)\n",
    "    # Sigma = pm.Deterministic('Sigma', L.dot(L.T)) # Don't use a covariance matrix parameterization\n",
    "    mu = pm.MvNormal('mu', mu=np.array(0), cov=np.eye(p), shape=p); \n",
    "    # y = pm.MvNormal('y', mu=mu, cov=Sigma, shape=(n,1), observed=y) \n",
    "    # Figure out how to parameterize this with a Cholesky factor to improve computational efficiency \n",
    "with MNV_LKJ    \n",
    "    idata = pm.sample()\n",
    "```    \n",
    "</SPAN>\n",
    "\n",
    "2. As indicated above, don't use a covariance matrix parameterization and instead figure out how to parameterize this with a ***Cholesky factor*** to improve computational efficiency. The ***Cholesky***-based formulation allows general $O(n^3)$ $\\det({\\boldsymbol \\Sigma})$ to be computed using a simple $O(n)$ product and general $O(n^3)$ ${\\boldsymbol \\Sigma}^{-1}$ to be instead evaluated with $O(n^2)$ ***backward substitution***. \n",
    "\n",
    "2. Specify ***priors*** that work: certainly you'll likely need to change the ***prior hyperparameters*** for $\\boldsymbol \\mu$ (`mu`) and $\\mathbf{R}$ (`packed_L`)...\n",
    "    1. And you could consider adjusting the ***prior*** for $\\boldsymbol \\sigma$ using `sd_dist`... \n",
    "\n",
    "3. [Optional] Assess the performance of the MCMC and note any issues\n",
    "\n",
    "    1. Traceplots, inference (credible) intervals, effective sample sizes, energy plots, warnings and other notes... just the usual stuff they do [here](https://www.pymc.io/projects/docs/en/stable/learn/core_notebooks/pymc_overview.html#pymc-overview)\n",
    "\n"
   ]
  }
 ],
 "metadata": {
  "celltoolbar": "Slideshow",
  "kernelspec": {
   "display_name": "Python 3 (ipykernel)",
   "language": "python",
   "name": "python3"
  },
  "language_info": {
   "codemirror_mode": {
    "name": "ipython",
    "version": 3
   },
   "file_extension": ".py",
   "mimetype": "text/x-python",
   "name": "python",
   "nbconvert_exporter": "python",
   "pygments_lexer": "ipython3",
   "version": "3.11.4"
  }
 },
 "nbformat": 4,
 "nbformat_minor": 5
}
