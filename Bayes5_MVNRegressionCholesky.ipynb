{
 "cells": [
  {
   "cell_type": "markdown",
   "id": "222e602a",
   "metadata": {
    "slideshow": {
     "slide_type": "slide"
    }
   },
   "source": [
    "# Class Activity 5 [20 minutes]: Quiz\n",
    "\n",
    "1. List the assumptions implied by the ***multiple linear regression model*** specification\n",
    "\n",
    "   $$y_i \\sim \\mathcal N(\\mathbf{x}_i^\\top \\boldsymbol \\beta,\\sigma^2), i=1,\\cdots,n$$\n",
    "\n",
    "2. Rewrite the above expression as a single sample from a ***multivariate normal distribiution*** using the ***multivariate random variable*** $\\mathbf{y}_{n\\times 1}$, ***design matrix*** $X_{n\\times p}$, and ***parameters*** $\\boldsymbol \\beta_{p \\times 1}$ and $\\boldsymbol \\Sigma_{n \\times n} = \\sigma^2 I_{n \\times n}$ (and include all the dimensions in your expression)\n",
    "\n",
    "3. Write down the mathematical expression of the pdf of the above ***multivariate normal distribution*** in terms of $\\boldsymbol \\Sigma_{n \\times n}$ (instead of $\\sigma^2 I_{n \\times n}$) ***multiple linear regression model*** specification considered thus far (and feel free to look up the expression of the pdf online if you need to)\n",
    "\n",
    "4. What family of ***priors*** would be ***conjugate*** for the ***multivariate parameter*** $\\boldsymbol \\beta$?\n",
    "\n",
    "5. What mathmematical form would a ***conjugate prior*** for $\\boldsymbol  \\Sigma$ be proporitional to for the ***multiple linear regression model*** currently under consideration? \n",
    "\n",
    "   Hint: \n",
    "\n",
    "   $$(\\mathbf {y} -\\mathbf{X \\boldsymbol \\beta})^\\top{\\boldsymbol {\\Sigma }}^{-1}(\\mathbf {y} - \\mathbf{X\\boldsymbol \\beta}) = \\textrm{tr}\\left((\\mathbf {y} -\\mathbf{X\\boldsymbol \\beta})^\\top{\\boldsymbol {\\Sigma }}^{-1}(\\mathbf {y} - \\mathbf{X\\boldsymbol \\beta}) \\right) = \\textrm{tr}\\left((\\mathbf {y} - \\mathbf{X\\boldsymbol \\beta})(\\mathbf {y} -\\mathbf{X\\boldsymbol \\beta})^\\top{\\boldsymbol {\\Sigma }}^{-1} \\right)$$\n"
   ]
  },
  {
   "cell_type": "markdown",
   "id": "f84a4e3c",
   "metadata": {
    "slideshow": {
     "slide_type": "slide"
    }
   },
   "source": [
    "# Class Activity 5 [10 minutes]: Review\n",
    "\n",
    "1. Assumptions of ***Muliple Linear Regression***\n",
    "    1. indepedendent\n",
    "    2. homoskedastic \n",
    "    3. normally distributed residuals\n",
    "    4. linear form and $\\mathbf{x_i}$ having no randomness (measured without error)\n",
    "\n",
    "2. ***Multivariate Normal Distribution*** specification of muliple linear regression\n",
    "\n",
    "   $$\\mathbf{y}_{n\\times 1} \\sim \\mathcal{MVN}(\\mathbf{X}_{n\\times p}\\boldsymbol{\\beta}_{p\\times 1},\\boldsymbol \\Sigma_{n\\times n} = \\sigma^2I_{n\\times n})$$\n",
    "\n",
    "3. For ***positive definite*** $\\Sigma$\n",
    "\n",
    "   $$p(\\textbf{y}_{n\\times 1}) = (2\\pi )^{-n/2}\\det({\\boldsymbol {\\Sigma }})^{-1/2}\\,\\exp \\left(-{\\frac {1}{2}}(\\mathbf {y} -\\mathbf{X\\boldsymbol \\beta})^\\top{\\boldsymbol {\\Sigma }}^{-1}(\\mathbf {y} - \\mathbf{X\\boldsymbol\\beta})\\right) $$\n",
    "\n",
    "4. The ***conjugate prior*** for $\\boldsymbol \\beta$ would be $\\boldsymbol \\beta \\sim \\mathcal{MVN}(\\boldsymbol \\beta_0, \\boldsymbol\\Sigma_\\beta)$ \n",
    "\n",
    "5. A ***conjugate prior*** for $\\boldsymbol \\Sigma$ would be $p(\\boldsymbol \\Sigma) \\propto \\det({\\boldsymbol {\\Sigma }})^{-v/2} \\exp \\left(-{\\frac {1}{2}}\\textrm{tr}\\left(\\Psi{\\boldsymbol {\\Sigma }}^{-1} \\right)\\right)$ \n",
    "\n",
    "   an [Inverse-Wishart distribution](https://en.wikipedia.org/wiki/Inverse-Wishart_distribution) and it is ***conjugate*** since [determinants multiply](https://proofwiki.org/wiki/Determinant_of_Matrix_Product) and [traces add](https://proofwiki.org/wiki/Trace_of_Sum_of_Matrices_is_Sum_of_Traces#:~:text=let%20A%2BB%20denote%20the,denotes%20the%20trace%20of%20A.)"
   ]
  },
  {
   "cell_type": "markdown",
   "id": "03c17d76",
   "metadata": {
    "slideshow": {
     "slide_type": "slide"
    }
   },
   "source": [
    "# Bayesian Multiple Linear Regression [10 minutes]\n",
    "\n",
    "\n",
    "\\begin{align*}\\require{cancel}\n",
    "\\mathbf{y}_{n\\times 1} \\sim {} & \\mathcal{MVN}(\\mathbf{X}_{n\\times p}\\boldsymbol{\\beta}_{p\\times 1},\\boldsymbol \\Sigma_{n\\times n} = \\sigma^2I_{n\\times n})\\\\\n",
    "p(\\mathbf{y}|\\boldsymbol \\beta, \\sigma, \\mathbf{X}) = {}& (2\\pi )^{-n/2}\\cancel{\\det({\\boldsymbol {\\Sigma }})^{-1/2}}{\\frac{1}{\\sigma^{\\frac{n}{2}}}}\\exp \\left(-{\\frac {1}{2\\sigma^2}}(\\mathbf {y} -\\mathbf{X\\boldsymbol\\beta})^\\top\\cancel{\\boldsymbol {\\Sigma }^{-1}}(\\mathbf {y} - \\mathbf{X\\boldsymbol\\beta})\\right)\\\\\\\\\n",
    "\\boldsymbol\\beta \\sim {} & \\mathcal{MVN}(\\boldsymbol\\beta_0, \\boldsymbol\\Sigma_\\beta) \\quad or\\;?\\\\\\\\\n",
    "\\sigma \\sim {} & exponential(\\lambda)  \\quad p(\\sigma) =  \\lambda e^{-\\lambda \\sigma}1_{[0,\\infty]}(\\sigma)\\\\\\\\\n",
    "\\end{align*}\n",
    "$$or \\quad \\sigma \\sim \\text{HalfNormal}(\\mu_\\sigma,\\sigma_\\sigma), \\sigma \\sim  \\text{InverseGamma}(\\alpha,\\beta), \\sigma \\sim \\text{TruncatedNormal}(\\mu_\\sigma,\\sigma_\\sigma,a,b) \\quad or \\; ?$$\n"
   ]
  },
  {
   "cell_type": "code",
   "execution_count": 24,
   "id": "fb4b4911",
   "metadata": {},
   "outputs": [],
   "source": [
    "import pymc as pm; import numpy as np; n,p=100,10; X,y=np.zeros((n,p)),np.ones((n,1))\n",
    "with pm.Model() as MLR:\n",
    "    betas = pm.MvNormal('betas', mu=np.zeros((p,1)), cov=np.eye(p), shape=(p,1))\n",
    "    sigma = pm.TruncatedNormal('sigma', mu=1, sigma=1, lower=0)\n",
    "    y = pm.Normal('y', mu=pm.math.dot(X, betas), sigma=sigma, observed=y)\n",
    "    # y = pm.MvNormal('y', mu=pm.math.dot(X, betas), cov=sigma**2*np.eye(n), shape=(n,1), observed=y)\n",
    "    \n",
    "with MLR:\n",
    "    idata = pm.sample()"
   ]
  },
  {
   "cell_type": "markdown",
   "id": "c028f61f",
   "metadata": {
    "slideshow": {
     "slide_type": "slide"
    }
   },
   "source": [
    "# Homework 5: Part I\n",
    "\n",
    "1. Go get data from kaggle.com and do a ***Bayesian Multiple Linear Regression*** analysis\n",
    "\n",
    "```python\n",
    "import pymc as pm; import numpy as np\n",
    "n,p=100,10; X,y=np.zeros((n,p)),np.ones((n,1))\n",
    "# Replace this made up data with your data set from kaggle...\n",
    "with pm.Model() as MLR:\n",
    "    betas = pm.MvNormal('betas', mu=np.zeros((p,1)), cov=np.eye(p), shape=(p,1))\n",
    "    sigma = pm.TruncatedNormal('sigma', mu=1, sigma=1, lower=0)\n",
    "    y = pm.Normal('y', mu=pm.math.dot(X, betas), sigma=sigma, observed=y)\n",
    "\n",
    "with MLR:\n",
    "    idata = pm.sample()\n",
    "```    \n",
    "\n",
    "2. Choose ***priors*** that work: certainly you'll likely need to change the ***hyperparameters***, and perhaps you can experiment with different distributional families for `sigma`...\n",
    "\n",
    "3. [Optional] Assess the performance of the MCMC and note any issue\n",
    "\n",
    "    1. Traceplots, inference (credible) intervals, effective sample sizes, energy plots, warnings and other notes... just the usual stuff they do [here](https://www.pymc.io/projects/docs/en/stable/learn/core_notebooks/pymc_overview.html#pymc-overview)\n",
    "\n",
    "4. [Optional] Perform model Multiple Linear Regression diagnostics... residual plots, etc.\n"
   ]
  },
  {
   "cell_type": "markdown",
   "id": "dbeb2abf",
   "metadata": {
    "slideshow": {
     "slide_type": "slide"
    }
   },
   "source": [
    "# Bayesian Multiple Linear Regression? [10 minutes]\n",
    "\n",
    "\\begin{align*}\\require{cancel}\n",
    "\\mathbf{y}_{n\\times 1} \\sim {} & \\mathcal{MVN}(\\mathbf{X}_{n\\times p}\\boldsymbol{\\beta}_{p\\times 1},\\boldsymbol \\Sigma_{n\\times n} = \\sigma^2I_{n\\times n})\\\\\n",
    "p(\\mathbf{y}|\\boldsymbol \\beta, \\sigma, \\mathbf{X}) = {}& (2\\pi )^{-n/2}\\cancel{\\det({\\boldsymbol {\\Sigma }})^{-1/2}}{\\frac{1}{\\sigma^{\\frac{n}{2}}}}\\exp \\left(-{\\frac {1}{2\\sigma^2}}(\\mathbf {y} -\\mathbf{X\\boldsymbol\\beta})^\\top\\cancel{\\boldsymbol {\\Sigma }^{-1}}(\\mathbf {y} - \\mathbf{X\\boldsymbol\\beta})\\right)\\\\\\\\\\hline\\\\\n",
    "\\mathbf{y}_{n\\times 1} \\sim {} & \\mathcal{MVN}(\\mathbf{X}_{n\\times p}\\boldsymbol{\\beta}_{p\\times 1},\\boldsymbol \\Sigma_{n\\times n} \\cancel{= \\sigma^2I_{n\\times n}})\\\\\n",
    "p(\\mathbf{y}|\\boldsymbol \\beta, \\sigma, \\mathbf{X}) = {}& (2\\pi )^{-n/2}{\\det({\\boldsymbol {\\Sigma }})^{-1/2}}\\exp \\left(-{\\frac {1}{2}}(\\mathbf {y} -\\mathbf{X\\boldsymbol\\beta})^\\top{\\boldsymbol {\\Sigma }^{-1}}(\\mathbf {y} - \\mathbf{X\\boldsymbol\\beta})\\right)\\\\\\\\\n",
    "\\boldsymbol\\beta \\sim {} & \\mathcal{MVN}(\\boldsymbol\\beta_0, \\boldsymbol\\Sigma_\\beta) \\quad or\\;?\\\\\\\\\n",
    "p(\\boldsymbol \\Sigma) \\propto {} & \\det({\\boldsymbol {\\Sigma }})^{-v/2} \\exp \\left(-{\\frac {1}{2}}\\textrm{tr}\\left(\\Psi{\\boldsymbol {\\Sigma }}^{-1} \\right)\\right) \\quad or\\;?\n",
    "\\end{align*}\n",
    "\n",
    "## Do we forsee any problems with what we're going to do here?"
   ]
  },
  {
   "cell_type": "markdown",
   "id": "96587f97",
   "metadata": {
    "slideshow": {
     "slide_type": "slide"
    }
   },
   "source": [
    "# Conjugate Multivariate Normal Priors [15 minutes]\n",
    "\n",
    "\\begin{align*}\n",
    "p(\\mathbf{y} | \\boldsymbol \\beta, \\boldsymbol \\Sigma, \\mathbf{X})= {}& (2\\pi )^{-k/2}\\det({\\boldsymbol {\\Sigma }})^{-1/2}\\,\\exp \\left(-{\\frac {1}{2}}(\\mathbf {y} -\\mathbf{X\\beta})^\\top{\\boldsymbol {\\Sigma }}^{-1}(\\mathbf{y} - \\mathbf{X\\beta})\\right)\\\\\n",
    "\\propto{}& \\exp\\left(\\mathbf{\\beta}^\\top\\mathbf{X}^\\top\\boldsymbol\\Sigma^{-1}\\mathbf{y} - \\frac{1}{2}\\mathbf{\\beta}^\\top \\mathbf{X}^\\top \\boldsymbol\\Sigma^{-1} \\mathbf{X\\beta} \\right)\\\\\n",
    "\\propto{}& \\exp\\left( - \\frac{1}{2} \\left((\\mathbf{X}^\\top \\boldsymbol\\Sigma^{-1} \\mathbf{X})^{-1}\\mathbf{X}^\\top \\boldsymbol\\Sigma^{-1}\\mathbf{y} -\\beta\\right)^{\\!\\top} \\left[\\mathbf{X}^{\\top} \\boldsymbol\\Sigma^{-1} \\mathbf{X} \\right]\\left((\\mathbf{X}^\\top \\boldsymbol\\Sigma^{-1} \\mathbf{X})^{-1}\\mathbf{X}^\\top \\boldsymbol\\Sigma^{-1}\\mathbf{y} -\\beta\\right)  \\right)\\\\\n",
    "p(\\boldsymbol \\beta) \\propto 1 \\Longrightarrow {}& p(\\boldsymbol \\beta | \\boldsymbol\\Sigma, \\mathbf{X},\\mathbf{y}) = \\mathcal{MVN}\\left(E[\\boldsymbol \\beta] = (\\mathbf{X}^\\top \\boldsymbol\\Sigma^{-1} \\mathbf{X})^{-1}\\mathbf{X}^\\top \\boldsymbol\\Sigma^{-1}\\mathbf{y}, \\text{Var}[\\boldsymbol \\beta] = \\left[\\mathbf{X}^{\\top} \\boldsymbol\\Sigma^{-1} \\mathbf{X} \\right]^{-1} \\right)\\\\\n",
    "or \\quad {}& \\text{to use a conjugate family of priors...}\\\\\n",
    "p(\\boldsymbol \\beta) = {}& \\mathcal{MVN}\\left(E[\\boldsymbol \\beta | \\boldsymbol\\Sigma, \\mathbf{X},\\mathbf{y}] = \\boldsymbol \\beta_0, \\text{Var}[\\boldsymbol \\beta | \\boldsymbol\\Sigma, \\mathbf{X},\\mathbf{y}] = \\boldsymbol \\Sigma_\\beta \\right) \\quad \\text{ so}\\\\\n",
    "p(\\boldsymbol \\beta |\\boldsymbol\\Sigma, \\mathbf{X},\\mathbf{y}) = {}& \\mathcal{MVN}\\left(E[\\boldsymbol \\beta] = \\text{Var}[\\boldsymbol \\beta]\\bigg( \\mathbf{X}^\\top \\boldsymbol\\Sigma^{-1}\\mathbf{y} + \\boldsymbol \\Sigma_\\beta^{-1}\\boldsymbol\\beta_0 \\right), \\text{Var}[\\boldsymbol \\beta] = \\left[\\mathbf{X}^{\\top}\\boldsymbol \\Sigma^{-1} \\mathbf{X} \\right]^{-1} + \\boldsymbol \\Sigma_\\beta^{-1} \\bigg)\\\\\n",
    "\\end{align*}\n",
    "\n",
    "\n",
    "\\begin{align*}\n",
    "\\text{Look familiar?}&\\, \\Downarrow{} \\quad\\quad \\underbrace{\\;\\,\\textbf{mean}\\,\\;}\\quad\\;\\underbrace{\\textbf{precision}}\\\\\n",
    "p(\\theta|x,\\theta_0,\\tau, \\phi) &={} \\text{N}\\left(\\frac{\\left(\\tau \\theta_0+\\phi\\sum_{i=1}^{n}x_{i}\\right)}{(\\tau+n\\phi)}, \\tau+n\\phi \\right)\n",
    "\\end{align*}\n",
    "\n"
   ]
  },
  {
   "cell_type": "markdown",
   "id": "4d7d6cce",
   "metadata": {
    "slideshow": {
     "slide_type": "slide"
    }
   },
   "source": [
    "# Homework 5: Part II\n",
    "    \n",
    "## Answer the following with respect to $p(\\boldsymbol \\beta |\\boldsymbol\\Sigma, \\mathbf{X},\\mathbf{y})$ on the previous slide\n",
    "    \n",
    "1. Rewrite $p(\\boldsymbol \\beta |\\boldsymbol\\Sigma, \\mathbf{X},\\mathbf{y})$ in terms of $\\sigma^2$ (no longer using $\\Sigma$) if $\\Sigma=\\sigma^2I$\n",
    "\n",
    "2. What is $E[\\boldsymbol \\beta |\\boldsymbol\\Sigma, \\mathbf{X},\\mathbf{y}]$?\n",
    "\n",
    "3. What ***hyperparameters*** values (legal or illegal) would make $E[\\boldsymbol \\beta |\\boldsymbol\\Sigma, \\mathbf{X},\\mathbf{y}] = (X^\\top X)^{-1} X^\\top y$?\n",
    "\n",
    "4. What ***hyperparameters*** values (legal or illegal) would make $E[  \\mathbf{\\hat y} = \\mathbf{X}\\boldsymbol \\beta |\\boldsymbol\\Sigma, \\mathbf{X},\\mathbf{y}] = X(X^\\top X)^{-1} X^\\top y$?\n",
    "\n",
    "5. What is $\\text{Var}[\\boldsymbol \\beta |\\boldsymbol\\Sigma, \\mathbf{X},\\mathbf{y}]$?"
   ]
  },
  {
   "cell_type": "markdown",
   "id": "7e97b1f3",
   "metadata": {
    "slideshow": {
     "slide_type": "slide"
    }
   },
   "source": [
    "# Inverse-Wishart Conjugate Priors for $\\Sigma$ [15 minutes]\n",
    "\n",
    "\\begin{align*}\n",
    "p(\\mathbf{y} | \\boldsymbol \\beta, \\Sigma, \\mathbf{X}) = {}& (2\\pi )^{-k/2}\\det({\\boldsymbol {\\Sigma }})^{-1/2}\\,\\exp \\left(-{\\frac {1}{2}}(\\mathbf {y} -\\mathbf{X\\beta})^\\top{\\boldsymbol {\\Sigma }}^{-1}(\\mathbf{y} - \\mathbf{X\\beta})\\right)\\\\\n",
    "= {}& (2\\pi )^{-k/2}\\det({\\boldsymbol {\\Sigma }})^{-1/2}\\,\\exp \\left(-{\\frac {1}{2}} \\textrm{tr}\\big((\\mathbf {y} -\\mathbf{X\\beta})^\\top{\\boldsymbol {\\Sigma }}^{-1}(\\mathbf{y} - \\mathbf{X\\beta})\\big)\\right)\\\\\n",
    "= {}& (2\\pi )^{-k/2}\\det({\\boldsymbol {\\Sigma }})^{-1/2}\\,\\exp \\left(-{\\frac {1}{2}} \\textrm{tr}\\big((\\mathbf{y} - \\mathbf{X\\beta})(\\mathbf {y} -\\mathbf{X\\beta})^\\top{\\boldsymbol {\\Sigma }}^{-1}\\big)\\right)\\\\\n",
    "p(\\boldsymbol \\Sigma) \\propto 1 \\Longrightarrow {}& \n",
    "\\boldsymbol \\Sigma | \\boldsymbol \\beta, \\mathbf{X},\\mathbf{y} \\sim \\mathcal{W}^{-1}\\left({\\mathbf\\Psi} = (\\mathbf{y} - \\mathbf{X\\beta})(\\mathbf {y} -\\mathbf{X\\beta})^\\top, \\nu = -n \\right)\n",
    "\\end{align*}\n",
    "\n",
    "| |\n",
    "|-|\n",
    "|[an Inverse-Wishart distribution](https://en.wikipedia.org/wiki/Inverse-Wishart_distribution)|\n",
    "\n",
    "\\begin{align*}\n",
    "\\Longrightarrow p(\\boldsymbol \\Sigma | \\boldsymbol \\beta, \\mathbf{X},\\mathbf{y}) = {}& {\\frac {\\operatorname{det}({\\mathbf {\\Psi } })^{\\nu /2}}{2^{\\nu n/2}\\Gamma _{n}({\\frac {\\nu }{2}})}}\\operatorname{det}(\\boldsymbol \\Sigma)^{-(\\nu +n+1)/2}e^{-{\\frac {1}{2}}\\operatorname{tr} (\\mathbf {\\Psi } \\boldsymbol \\Sigma ^{-1})}\\hspace{1.66in}\\\\\n",
    "or \\quad {}& \\text{to use a conjugate family of priors...}\\\\\n",
    "p(\\boldsymbol \\Sigma) = {}& \\mathcal{W}^{-1}\\left(\\boldsymbol\\Psi = \\boldsymbol\\Psi_0, \\nu = n+1 \\right) \\quad \\text{ so}\\\\\n",
    "\\boldsymbol \\Sigma | \\boldsymbol \\beta, \\mathbf{X},\\mathbf{y} \\sim {}& \\mathcal{W}^{-1}\\left(\\boldsymbol\\Psi = \\boldsymbol\\Psi_0 + (\\mathbf{y} - \\mathbf{X\\beta})(\\mathbf {y} -\\mathbf{X\\beta})^\\top, \\nu = n+2 \\right)\n",
    "\\end{align*}\n",
    "\n",
    "since [determinants multiply](https://proofwiki.org/wiki/Determinant_of_Matrix_Product) and [traces add](https://proofwiki.org/wiki/Trace_of_Sum_of_Matrices_is_Sum_of_Traces#:~:text=let%20A%2BB%20denote%20the,denotes%20the%20trace%20of%20A.)\n",
    "\n",
    "\n"
   ]
  },
  {
   "cell_type": "markdown",
   "id": "909c1730",
   "metadata": {
    "slideshow": {
     "slide_type": "slide"
    }
   },
   "source": [
    "# Inverse-Wishart Distributions [10 minutes]\n",
    "\n"
   ]
  },
  {
   "cell_type": "code",
   "execution_count": 19,
   "id": "736401db",
   "metadata": {},
   "outputs": [
    {
     "name": "stdout",
     "output_type": "stream",
     "text": [
      "Degrees of freedom must be greater than the dimension of scale matrix minus 1.\n"
     ]
    }
   ],
   "source": [
    "import numpy as np; from scipy import stats\n",
    "p = 2; Psi = np.eye(p) # 2x2 identity\n",
    "try:\n",
    "    stats.invwishart(df=-p, scale=Psi)\n",
    "except ValueError as error:\n",
    "    print(error)"
   ]
  },
  {
   "cell_type": "markdown",
   "id": "40238cb7",
   "metadata": {
    "slideshow": {
     "slide_type": "-"
    }
   },
   "source": [
    "So $p(\\boldsymbol \\Sigma) \\propto 1$ is an ***improper prior*** that results in an ***imporoper posterior***"
   ]
  },
  {
   "cell_type": "code",
   "execution_count": 8,
   "id": "9a54e5f6",
   "metadata": {},
   "outputs": [
    {
     "data": {
      "text/plain": [
       "array([[3.00866829, 0.46419199],\n",
       "       [0.46419199, 0.18997762]])"
      ]
     },
     "execution_count": 8,
     "metadata": {},
     "output_type": "execute_result"
    }
   ],
   "source": [
    "myIWD = stats.invwishart(df=p, scale=Psi); myIWD.rvs(1) # p-1 also won't work"
   ]
  },
  {
   "cell_type": "markdown",
   "id": "07b85b91",
   "metadata": {},
   "source": [
    "$$E[\\boldsymbol \\Sigma] = \\frac{\\boldsymbol\\Psi}{\\nu - p - 1} \\text{ for } \\boldsymbol \\Sigma \\sim \\mathcal{W}^{-1}(\\boldsymbol \\Psi,\\nu) \\text{ with } \\nu>p+1$$\n",
    "\n",
    "That's why we made the \"interesting\" choice of $\\nu = n+1$ for the ***conjugate prior*** specification above\n"
   ]
  },
  {
   "cell_type": "code",
   "execution_count": 20,
   "id": "d135ddf4",
   "metadata": {},
   "outputs": [
    {
     "data": {
      "text/plain": [
       "array([[5.39915696, 0.38525571],\n",
       "       [0.38525571, 5.21579049]])"
      ]
     },
     "execution_count": 20,
     "metadata": {},
     "output_type": "execute_result"
    }
   ],
   "source": [
    "myIWD = stats.invwishart(df=p+2, scale=Psi); myIWD.rvs(size=100000).mean(axis=0)"
   ]
  },
  {
   "cell_type": "markdown",
   "id": "77b92138",
   "metadata": {
    "slideshow": {
     "slide_type": "slide"
    }
   },
   "source": [
    "# LKJ Priors [20 minutes]\n",
    "\n",
    "The ***covariance matrix*** $\\boldsymbol \\Sigma_{p \\times p} = \\mathbf{D R D} = \\mathbf{D LL^\\top D}$ for \n",
    "- $\\mathbf{D} = \\operatorname{diag}(\\boldsymbol \\sigma)$ the ***diagonal matrix*** of ***standard deviations*** \n",
    "- $\\mathbf{R}$ the ***correlation matrix*** with all ***diagonal values*** equal to $1$, and \n",
    "- $\\mathbf{L}$ the ***lower diagonal of the Cholesky decomposition*** of $\\mathbf{R}$\n",
    "\n",
    "The ***LKJ (Lewandowski-Kurowicka-Joe) prior*** is simpler than the ***Inverse-Wishart*** and is [simple to evaluate](https://mc-stan.org/docs/functions-reference/cholesky-lkj-correlation-distribution.html) \n",
    "\n",
    "$$\\require{cancel} \n",
    "\\begin{align*}\n",
    "p(\\mathbf {R}) \\propto &{}\\det(\\mathbf{R})^{\\eta -1} \\quad f^{-1}(L)=R=LL^\\top \\quad J = \\frac{d f^{-1}(L)}{d L} = \\frac{d R}{d L} \\quad J_{ij} = \\frac{dR_i}{dL_j}\\\\\n",
    "p(\\mathbf {L}) =&{} \\det(\\mathbf{LL^\\top})^{\\eta -1} \\det(J) = \\overbrace{\\left(\\prod_{k=1}^p L_{kk}\\right)^{\\eta -1}}^{\\det(\\mathbf{L})^{\\eta -1}}\\overbrace{\\left(\\prod_{k=1}^p L_{kk}^\\top\\right)^{\\eta -1}}^{\\det(\\mathbf{L^\\top})^{\\eta -1}} \\overbrace{\\left(\\prod_{k=1}^p L_{kk}^{p-k}\\right)}^{\\det(J)} = \\prod_{k=\\cancel{1}2}^p L_{kk}^{p-k + 2(\\eta-1)}\n",
    "\\end{align*}$$\n",
    "\n",
    "and provides efficient computation of $(\\mathbf{y}-\\boldsymbol\\mu)^\\top\\boldsymbol\\Sigma^{-1}(\\mathbf{y}-\\boldsymbol\\mu) = \\epsilon^\\top L^{-\\top}L^{-1} \\epsilon = (L^{-1} \\epsilon)^\\top(L^{-1} \\epsilon) = x^\\top x$ where $x$ can be efficiently solved for based on ***lower triangular backwards substitution***  $L\\underset{L^{-1} \\epsilon}{x} = \\epsilon$ \n",
    "\n"
   ]
  },
  {
   "cell_type": "markdown",
   "id": "5c2e644e",
   "metadata": {
    "slideshow": {
     "slide_type": "slide"
    }
   },
   "source": [
    "# LKJ Priors [10 minutes]\n",
    "\n",
    "\n",
    "$p(\\boldsymbol \\Sigma) = p(\\boldsymbol \\sigma)p(\\mathbf {R})$ and the $\\eta=1$ \n",
    "***hyperparameter*** specifies a uniform distribution on ***correlation matrices***\n",
    "\n",
    "$$p(\\mathbf {R}) \\propto \\det(\\mathbf{R}_{p \\times p})^{\\eta -1} \\quad \\text{ $\\eta=1$ gives proper posteriors since } p(\\mathbf {R}) \\propto 1 \\text{ is not the same as }p(\\boldsymbol \\Sigma)\\propto 1 $$\n",
    "\n",
    "- The ***determinant*** is the product of the ***singular values*** and is largest when all ***singular values***<br>(which sum to $p$) are equal to $1$ which means all off-diagonal correlations are $0$\n",
    "\n",
    "Increasing $\\eta \\rightarrow \\infty$ thus favors ***correlation matrices*** with \n",
    "smaller magnitudes of component correlations "
   ]
  },
  {
   "cell_type": "code",
   "execution_count": 21,
   "id": "16053284",
   "metadata": {},
   "outputs": [
    {
     "data": {
      "text/plain": [
       "array([1.38505947, 1.1126808 , 2.19180188])"
      ]
     },
     "execution_count": 21,
     "metadata": {},
     "output_type": "execute_result"
    }
   ],
   "source": [
    "import pymc as pm # https://www.pymc.io/projects/examples/en/latest/case_studies/LKJ.html\n",
    "# https://www.pymc.io/projects/docs/en/stable/api/distributions/generated/pymc.LKJCholeskyCov.html\n",
    "with pm.Model() as LKJ:\n",
    "    packed_L = pm.LKJCholeskyCov(\"packed_L\", n=2, eta=2.0, \n",
    "                                 sd_dist=pm.Exponential.dist(1.0, shape=2), compute_corr=False)\n",
    "packed_L.eval()    "
   ]
  },
  {
   "cell_type": "code",
   "execution_count": 22,
   "id": "fcaa7e18",
   "metadata": {},
   "outputs": [
    {
     "data": {
      "text/plain": [
       "array([[1.91838972, 1.54112908],\n",
       "       [1.54112908, 6.04205406]])"
      ]
     },
     "execution_count": 22,
     "metadata": {},
     "output_type": "execute_result"
    }
   ],
   "source": [
    "with LKJ:\n",
    "    L = pm.expand_packed_triangular(2, packed_L)\n",
    "    Sigma = L.dot(L.T)\n",
    "Sigma.eval()#.shape"
   ]
  },
  {
   "cell_type": "markdown",
   "id": "709630a9",
   "metadata": {
    "slideshow": {
     "slide_type": "slide"
    }
   },
   "source": [
    "# Bayesian Multivariate Linear Model: MVN-LKJ specification<br>*as opposed to Multiple Linear Regression* [15 minutes]\n",
    "\n",
    "$$\\scriptsize\n",
    "\\begin{align*}\\require{cancel}\n",
    "\\mathbf{y}_{n\\times 1} \\sim {} & \\mathcal{MVN}(\\mathbf{X}_{n\\times p}\\boldsymbol{\\beta}_{p\\times 1},\\boldsymbol \\Sigma_{n\\times n} = \\sigma^2I_{n\\times n})\\\\\n",
    "p(\\mathbf{y}|\\boldsymbol \\beta, \\sigma, \\mathbf{X}) = {}& (2\\pi )^{-n/2}\\cancel{\\det({\\boldsymbol {\\Sigma }})^{-1/2}}{\\frac{1}{\\sigma^{\\frac{n}{2}}}}\\exp \\left(-{\\frac {1}{2\\sigma^2}}(\\mathbf {y} -\\mathbf{X\\boldsymbol\\beta})^\\top\\cancel{\\boldsymbol {\\Sigma }^{-1}}(\\mathbf {y} - \\mathbf{X\\boldsymbol\\beta})\\right)\\\\\\\\\\hline\\\\\n",
    "\\mathbf{y}_{n\\times 1} \\sim {} & \\mathcal{MVN}(\\mathbf{X}_{n\\times p}\\boldsymbol{\\beta}_{p\\times 1},\\boldsymbol \\Sigma_{n\\times n} \\cancel{= \\sigma^2I_{n\\times n}})\\\\\n",
    "p(\\mathbf{y}|\\boldsymbol \\beta, \\sigma, \\mathbf{X}) = {}& (2\\pi )^{-n/2}{\\det({\\boldsymbol {\\Sigma }})^{-1/2}}\\exp \\left(-{\\frac {1}{2}}(\\mathbf {y} -\\mathbf{X\\boldsymbol\\beta})^\\top{\\boldsymbol {\\Sigma }^{-1}}(\\mathbf {y} - \\mathbf{X\\boldsymbol\\beta})\\right)\\\\\\\\\\hline\\\\\n",
    "\\mathbf{y}_{i} \\sim {} & \\mathcal{MVN}(\\boldsymbol \\mu,\\boldsymbol \\Sigma = \\mathbf{DRD})\\\\\n",
    "p(\\mathbf{y}|\\boldsymbol \\beta, \\sigma, \\mathbf{X}) = {}& (2\\pi )^{-n/2}{\\det({\\boldsymbol {\\Sigma }})^{-1/2}}\\exp \\left(-{\\frac {1}{2}}(\\mathbf {y} - \\boldsymbol\\mu)^\\top{\\boldsymbol {\\Sigma }^{-1}}(\\mathbf {y} - \\boldsymbol\\mu)\\right)\\\\\n",
    "\\boldsymbol\\beta \\sim {} & \\mathcal{MVN}(\\boldsymbol\\beta_0, \\boldsymbol\\Sigma_\\beta)\\\\\n",
    "\\mathbf {R} \\sim {}& \\mathcal{LKJ}(\\eta) & p(\\mathbf {R}) \\propto {}& \\det(\\mathbf{R}_{p \\times p})^{\\eta -1}\\\\\n",
    "\\sigma_i \\sim {} & exponential(\\lambda)\\quad \\text{ and } \\quad \\mathbf{D}=\\text{diag}(\\boldsymbol \\sigma)  & p(\\sigma_i) = {} & \\lambda e^{-\\lambda \\sigma_i}1_{[0,\\infty]}(\\sigma_i)\n",
    "\\end{align*}$$"
   ]
  },
  {
   "cell_type": "markdown",
   "id": "f7ca4357",
   "metadata": {
    "slideshow": {
     "slide_type": "slide"
    }
   },
   "source": [
    "# Bayesian Multivariate Linear Model: MVN-LKJ specification<br>*as opposed to Multiple Linear Regression* [15 minutes]\n"
   ]
  },
  {
   "cell_type": "code",
   "execution_count": 58,
   "id": "3ac7ef13",
   "metadata": {},
   "outputs": [
    {
     "name": "stderr",
     "output_type": "stream",
     "text": [
      "Auto-assigning NUTS sampler...\n",
      "Initializing NUTS using jitter+adapt_diag...\n",
      "Multiprocess sampling (4 chains in 4 jobs)\n",
      "NUTS: [packed_L, mu]\n"
     ]
    },
    {
     "data": {
      "text/html": [
       "\n",
       "<style>\n",
       "    /* Turns off some styling */\n",
       "    progress {\n",
       "        /* gets rid of default border in Firefox and Opera. */\n",
       "        border: none;\n",
       "        /* Needs to be in here for Safari polyfill so background images work as expected. */\n",
       "        background-size: auto;\n",
       "    }\n",
       "    progress:not([value]), progress:not([value])::-webkit-progress-bar {\n",
       "        background: repeating-linear-gradient(45deg, #7e7e7e, #7e7e7e 10px, #5c5c5c 10px, #5c5c5c 20px);\n",
       "    }\n",
       "    .progress-bar-interrupted, .progress-bar-interrupted::-webkit-progress-bar {\n",
       "        background: #F44336;\n",
       "    }\n",
       "</style>\n"
      ],
      "text/plain": [
       "<IPython.core.display.HTML object>"
      ]
     },
     "metadata": {},
     "output_type": "display_data"
    },
    {
     "data": {
      "text/html": [
       "\n",
       "    <div>\n",
       "      <progress value='8000' class='' max='8000' style='width:300px; height:20px; vertical-align: middle;'></progress>\n",
       "      100.00% [8000/8000 00:26&lt;00:00 Sampling 4 chains, 0 divergences]\n",
       "    </div>\n",
       "    "
      ],
      "text/plain": [
       "<IPython.core.display.HTML object>"
      ]
     },
     "metadata": {},
     "output_type": "display_data"
    },
    {
     "name": "stderr",
     "output_type": "stream",
     "text": [
      "Sampling 4 chains for 1_000 tune and 1_000 draw iterations (4_000 + 4_000 draws total) took 26 seconds.\n"
     ]
    }
   ],
   "source": [
    "import numpy as np; from scipy import stats; p=10; Psi=np.eye(p); a_cov = stats.invwishart(df=p+2, scale=Psi).rvs(1)\n",
    "n=1000; y=stats.multivariate_normal(mean=np.zeros(p), cov=a_cov).rvs(size=n)\n",
    "with pm.Model() as MNV_LKJ:\n",
    "    packed_L = pm.LKJCholeskyCov(\"packed_L\", n=p, eta=2.0, sd_dist=pm.Exponential.dist(1.0, shape=2), compute_corr=False)\n",
    "    L = pm.expand_packed_triangular(p, packed_L); Sigma = pm.Deterministic('Sigma', L.dot(L.T))\n",
    "    mu = pm.MvNormal('mu', mu=np.array(0), cov=np.eye(p), shape=p); \n",
    "    y = pm.MvNormal('y', mu=mu, cov=Sigma, shape=(n,1), observed=y)\n",
    "    idata = pm.sample()"
   ]
  },
  {
   "cell_type": "code",
   "execution_count": 59,
   "id": "eff71395",
   "metadata": {},
   "outputs": [
    {
     "data": {
      "image/png": "[encoded data removed]",
      "text/plain": [
       "<Figure size 1800x400 with 5 Axes>"
      ]
     },
     "metadata": {},
     "output_type": "display_data"
    }
   ],
   "source": [
    "import matplotlib.pyplot as plt; fig,ax = plt.subplots(1,5,figsize=(18,4)); ax[-1].imshow(a_cov); ax[-1].set_title((\"Sigma used to generate y\"))\n",
    "for chain in range(4):\n",
    "    ax[chain].imshow(idata.posterior['Sigma'].mean(axis=1)[chain]); ax[chain].set_title((\"chian\",chain,\"mean Sigma\"))"
   ]
  },
  {
   "cell_type": "markdown",
   "id": "12f8e553",
   "metadata": {
    "slideshow": {
     "slide_type": "slide"
    }
   },
   "source": [
    "# Homework 5: Part III\n",
    "\n",
    "1. Go get data from kaggle.com and do a ***Bayesian Multivariate Linear Model*** analysis\n",
    "\n",
    "\n",
    "<SPAN STYLE=\"font-size:18.0pt\">\n",
    "\n",
    "```python\n",
    "import numpy as np; from scipy import stats\n",
    "p=10; Psi=np.eye(p); a_cov = stats.invwishart(df=p+2, scale=Psi).rvs(1)\n",
    "n=1000; y=stats.multivariate_normal(mean=np.zeros(p), cov=a_cov).rvs(size=n)\n",
    "# Replace this made up data with your data set from kaggle...\n",
    "    \n",
    "with pm.Model() as MNV_LKJ:\n",
    "    packed_L = pm.LKJCholeskyCov(\"packed_L\", n=p, eta=2.0,\n",
    "                                 sd_dist=pm.Exponential.dist(1.0, shape=2), compute_corr=False)\n",
    "    L = pm.expand_packed_triangular(p, packed_L)\n",
    "    Sigma = pm.Deterministic('Sigma', L.dot(L.T))\n",
    "    mu = pm.MvNormal('mu', mu=np.array(0), cov=np.eye(p), shape=p); \n",
    "    y = pm.MvNormal('y', mu=mu, cov=Sigma, shape=(n,1), observed=y)\n",
    "    \n",
    "with MNV_LKJ    \n",
    "    idata = pm.sample()\n",
    "```    \n",
    "</SPAN>\n",
    "    \n",
    "2. Choose ***priors*** that work: certainly you'll likely need to change the ***hyperparameters*** `mu` and `sigma`...\n",
    "\n",
    "3. [Optional] Assess the performance of the MCMC and note any issue\n",
    "\n",
    "    1. Traceplots, inference (credible) intervals, effective sample sizes, energy plots, warnings and other notes... just the usual stuff they do [here](https://www.pymc.io/projects/docs/en/stable/learn/core_notebooks/pymc_overview.html#pymc-overview)\n",
    "\n"
   ]
  }
 ],
 "metadata": {
  "celltoolbar": "Slideshow",
  "kernelspec": {
   "display_name": "Python 3 (ipykernel)",
   "language": "python",
   "name": "python3"
  },
  "language_info": {
   "codemirror_mode": {
    "name": "ipython",
    "version": 3
   },
   "file_extension": ".py",
   "mimetype": "text/x-python",
   "name": "python",
   "nbconvert_exporter": "python",
   "pygments_lexer": "ipython3",
   "version": "3.11.4"
  }
 },
 "nbformat": 4,
 "nbformat_minor": 5
}
